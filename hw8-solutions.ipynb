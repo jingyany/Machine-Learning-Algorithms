{
 "cells": [
  {
   "cell_type": "markdown",
   "metadata": {},
   "source": [
    "# <center> Homework 8 Solutions </center>"
   ]
  },
  {
   "cell_type": "markdown",
   "metadata": {},
   "source": [
    "# Exercise 1\n",
    "### Part 1\n",
    "Computing the gradient is easiest if we rewrite the objective function and then compute the partial derivative of the first term with respect to one element of $\\alpha$ at a time. Observe that\n",
    "\\begin{align*}\n",
    "F(\\alpha) &:= \\frac{1}{n} \\sum_{i=1}^n \\left(\\max(0, 1 - y_i (K \\alpha)_i)\\right)^2 \\; + \\lambda \\alpha^{T} K \\alpha \\\\\n",
    "&= \\frac{1}{n} \\sum_{i=1}^n \\left(\\max\\left(0, 1 - y_i \\sum_{j=1}^n K_{ij}\\alpha_j\\right)\\right)^2 \\; + \\lambda \\alpha^{T} K \\alpha.\n",
    "\\end{align*}\n",
    "Now let's differentiate the first term with respect to $\\alpha_1$. To do this, we can apply the chain rule:\n",
    "$$\\frac{\\partial}{\\partial \\alpha}\\left\\{\\frac{1}{n} \\sum_{i=1}^n \\left(\\max(0, 1 - y_i (K \\alpha)_i)\\right)^2\\right\\} = -\\frac{2}{n} \\sum_{i=1}^n y_iK_{i1} \\max\\left(0, 1 - y_i \\sum_{j=1}^n K_{ij}\\alpha_j\\right).$$\n",
    "The partial derivatives with respect to the other $\\alpha_i$'s is similar. Therefore, the gradient of $F$ is given by \n",
    "\\begin{align*}\n",
    "\\nabla F(\\alpha) &= -\\frac{2}{n} \\sum_{i=1}^n y_iK_{i,\\cdot} \\max\\left(0, 1 - y_i \\sum_{j=1}^n K_{ij}\\alpha_j\\right) + 2\\lambda K\\alpha.\n",
    "\\end{align*}\n"
   ]
  },
  {
   "cell_type": "markdown",
   "metadata": {},
   "source": [
    "### Other parts\n",
    "Here I am only using a small subset of MNIST so that it runs faster. You are welcome to scale it up to use a larger fraction of the data."
   ]
  },
  {
   "cell_type": "code",
   "execution_count": 13,
   "metadata": {
    "collapsed": false
   },
   "outputs": [],
   "source": [
    "import matplotlib.pyplot as plt\n",
    "import numpy as np\n",
    "import os\n",
    "import pickle\n",
    "import scipy.linalg\n",
    "from sklearn.datasets import fetch_mldata\n",
    "import sklearn.metrics\n",
    "import sklearn.model_selection\n",
    "import sklearn.preprocessing\n",
    "import sklearn.svm\n",
    "\n",
    "\n",
    "# Part 2: Compute K\n",
    "def computegram(x, kernel, params):\n",
    "    gram = kernel(x, x, params)\n",
    "    return gram\n",
    "\n",
    "\n",
    "def poly(x1, x2, params):\n",
    "    return (x1.dot(x2.T) + 1)**params['power']\n",
    "\n",
    "\n",
    "def rbf(x1, x2, params):\n",
    "    if x2.ndim == 2:\n",
    "        return np.exp(-np.linalg.norm(np.subtract(x1[:, :, np.newaxis], x2[:, :, np.newaxis].T), axis=1)**2/params['sigma']**2)\n",
    "    else:\n",
    "        return np.exp(-np.linalg.norm(np.subtract(x1, x2), axis=1) ** 2 / params['sigma'] ** 2)\n",
    "\n",
    "\n",
    "# Part 3: Compute vector of kernel evaluations\n",
    "def kerneleval(x, x_new, kernel, params):\n",
    "    keval = kernel(x, x_new, params)\n",
    "    return keval\n",
    "\n",
    "\n",
    "# Part 4: Load and standardize the MNIST dataset\n",
    "def load_data():\n",
    "    mnist = fetch_mldata('MNIST original')\n",
    "    x_all = mnist.data\n",
    "    y_all = mnist.target\n",
    "    one_two_idxs = np.concatenate((np.where(y_all == 1)[0], np.where(y_all == 2)[0]))\n",
    "    x = x_all[one_two_idxs]\n",
    "    y = (y_all[one_two_idxs]-1)*2 - 1\n",
    "    print('Number of examples:', x.shape[0])\n",
    "\n",
    "    return x, y\n",
    "\n",
    "\n",
    "def split_standardize_data(x, y):\n",
    "    x_train, x_test, y_train, y_test = sklearn.model_selection.train_test_split(x, y, train_size=0.01, test_size=0.02, random_state=0)\n",
    "    x_valid, x_test, y_valid, y_test = sklearn.model_selection.train_test_split(x_test, y_test, train_size=0.5, test_size=0.5, random_state=0)\n",
    "    scaler = sklearn.preprocessing.StandardScaler()\n",
    "    scaler.fit(x_train)\n",
    "    x_train = scaler.transform(x_train)\n",
    "    x_valid = scaler.transform(x_valid)\n",
    "    x_test = scaler.transform(x_test)\n",
    "\n",
    "    return x_train, x_valid, x_test, y_train, y_valid, y_test\n",
    "\n",
    "\n",
    "# Part 5: Implementation of fast gradient to train the kernel SVM\n",
    "def computegrad(alpha, lambduh, K, y):\n",
    "    K_alpha = np.dot(K, alpha)\n",
    "    grad = -2 / len(y) * np.sum(\n",
    "        y[:, np.newaxis] * K * np.max((np.zeros_like(y), 1 - y * K_alpha), axis=0)[:, np.newaxis],\n",
    "        axis=0) + 2 * lambduh * K_alpha\n",
    "    return grad\n",
    "\n",
    "\n",
    "def objective(alpha, lambduh, K, y):\n",
    "    K_alpha = np.dot(K, alpha)\n",
    "    return 1 / len(y) * np.sum(np.max((np.zeros_like(y), 1 - y * K_alpha), axis=0) ** 2) + lambduh * alpha.dot(K_alpha)\n",
    "\n",
    "\n",
    "def bt_line_search(alpha, lambduh, K, y, eta=1, alpha_bt=0.5, betaparam=0.1, maxiter=1000):\n",
    "    grad_alpha = computegrad(alpha, lambduh, K, y)\n",
    "    norm_grad_alpha = np.linalg.norm(grad_alpha)\n",
    "    found_eta = 0\n",
    "    iter = 0\n",
    "    obj_now = objective(alpha, lambduh, K, y)\n",
    "    while found_eta == 0 and iter < maxiter:\n",
    "        obj_next = objective(alpha - eta * grad_alpha, lambduh, K, y)\n",
    "        if obj_next < obj_now - alpha_bt * eta * norm_grad_alpha ** 2:\n",
    "            found_eta = 1\n",
    "        elif iter == maxiter - 1:\n",
    "            print('Warning: Max number of iterations of backtracking line search reached')\n",
    "            break\n",
    "        else:\n",
    "            eta *= betaparam\n",
    "            iter += 1\n",
    "    return eta\n",
    "\n",
    "\n",
    "def graddescent(alpha_init, lambduh, K, y, eta_init, maxiter):\n",
    "    alpha = alpha_init\n",
    "    eta = eta_init\n",
    "    grad_alpha = computegrad(alpha, lambduh, K, y)\n",
    "    alpha_vals = alpha\n",
    "    iter = 0\n",
    "    while iter < maxiter:\n",
    "        eta = bt_line_search(alpha, lambduh, K, y, eta=eta)\n",
    "        alpha = alpha - eta * grad_alpha\n",
    "        grad_alpha = computegrad(alpha, lambduh, K, y)\n",
    "        iter += 1\n",
    "        if iter % 1000 == 0:\n",
    "            alpha_vals = np.vstack((alpha_vals, alpha))\n",
    "            print('Gradient descent iteration', iter)\n",
    "    return alpha_vals\n",
    "\n",
    "\n",
    "def fastgradalgo(alpha_init, theta_init, lambduh, K, y, eta_init, maxiter, x_train, x_valid, y_valid, kernel):\n",
    "    alpha = alpha_init\n",
    "    theta = theta_init\n",
    "    eta = eta_init\n",
    "    grad_theta = computegrad(theta, lambduh, K, y)\n",
    "    alpha_vals = alpha\n",
    "    iter = 0\n",
    "    while iter < maxiter:\n",
    "        eta = bt_line_search(theta, lambduh, K, y, eta=eta)\n",
    "        alpha_new = theta - eta * grad_theta\n",
    "        theta = alpha_new + iter / (iter + 3) * (alpha_new - alpha)\n",
    "        grad_theta = computegrad(theta, lambduh, K, y)\n",
    "        alpha = alpha_new\n",
    "        iter += 1\n",
    "        if iter % 10 == 0:\n",
    "            alpha_vals = np.vstack((alpha_vals, alpha_new))\n",
    "    return alpha_vals\n",
    "\n",
    "\n",
    "def misclassification_error(alpha, x_train, x_test, y_test, kernel, kernel_params):\n",
    "    n_test = len(y_test)\n",
    "    y_pred = np.zeros(n_test)\n",
    "    for i in range(n_test):\n",
    "        y_pred[i] = np.dot(kerneleval(x_train, x_test[i, :], kernel, kernel_params), alpha) > 0\n",
    "    y_pred = y_pred* 2 - 1\n",
    "    return np.mean(y_pred != y_test)\n",
    "\n",
    "\n",
    "def objective_plot(alphas, lambduh, K, y, save_file=''):\n",
    "    num_points = np.size(alphas, 0)\n",
    "    objs = np.zeros(num_points)\n",
    "    for i in range(0, num_points):\n",
    "        objs[i] = objective(alphas[i, :], lambduh, K, y)\n",
    "    fig, ax = plt.subplots()\n",
    "    ax.plot(np.array(range(num_points))*10, objs, c='red')\n",
    "    plt.xlabel('Iteration')\n",
    "    plt.ylabel('Objective value')\n",
    "    plt.title('Objective value vs. iteration when lambda=' + str(lambduh))\n",
    "    if not save_file:\n",
    "        plt.show()\n",
    "    else:\n",
    "        plt.savefig(save_file)\n",
    "\n",
    "\n",
    "# Part 6: Train the kernel SVM with the squared hinge loss and polynomial kernel of order 7\n",
    "def cross_validate(K, y_train, maxiter, x_train, x_valid, y_valid, kernel, lambda_max):\n",
    "    lambduh = lambda_max\n",
    "    best_error = 1\n",
    "    best_lambda = lambduh\n",
    "    n = np.size(K, 0)\n",
    "    for i in range(10):\n",
    "        alpha_init = np.zeros(n)\n",
    "        theta_init = np.zeros(n)\n",
    "        eta_init = 1 / scipy.linalg.eigh(2 / len(y_train) * np.dot(K, K) + 2 * lambduh * K, eigvals=(n - 1, n - 1),\n",
    "                                         eigvals_only=True)[0]\n",
    "        alphas = fastgradalgo(alpha_init, theta_init, lambduh, K, y_train, eta_init, maxiter, x_train, x_valid,\n",
    "                                 y_valid, kernel)\n",
    "        error = misclassification_error(alphas[-1,:], x_train, x_valid, y_valid, kernel, kernel_params)\n",
    "        if error < best_error:\n",
    "            best_lambda = lambduh\n",
    "            best_error = error\n",
    "        lambduh /= 10\n",
    "    print('Optimal lambda:', best_lambda)\n",
    "    return best_lambda\n",
    "\n",
    "\n",
    "def get_data(kernel, kernel_params, save_data_file):\n",
    "    # Check if data exists. If not, get it.\n",
    "    if not os.path.exists(save_data_file):\n",
    "        x, y = load_data()\n",
    "        x_train, x_valid, x_test, y_train, y_valid, y_test = split_standardize_data(x, y)\n",
    "        # Pre-compute the gram matrix\n",
    "        print('Computing the gram matrix...')\n",
    "        K = computegram(x_train, kernel, kernel_params)\n",
    "        # Save the above things so if we re-run this we don't need to recompute them\n",
    "        with open(save_data_file, 'wb') as f:\n",
    "            pickle.dump([x_train, x_valid, x_test, y_train, y_valid, y_test, K], f)\n",
    "    else:\n",
    "        with open(save_data_file, 'rb') as f:\n",
    "            x_train, x_valid, x_test, y_train, y_valid, y_test, K = pickle.load(f)\n",
    "    return x_train, x_valid, x_test, y_train, y_valid, y_test, K\n",
    "\n",
    "\n",
    "def train_svm(kernel, kernel_params, save_data_file, maxiter=10000, lambda_max=10**5):\n",
    "    # Read in the data\n",
    "    x_train, x_valid, x_test, y_train, y_valid, y_test, K = get_data(kernel, kernel_params, save_data_file)\n",
    "    # Perform cross-validation to pick the best lambda\n",
    "    best_lambda = cross_validate(K, y_train, maxiter, x_train, x_valid, y_valid, kernel, lambda_max)\n",
    "    # Initialize things\n",
    "    n, d = x_train.shape\n",
    "    print('Number of training examples: ', n)\n",
    "    alpha_init = np.zeros(n)\n",
    "    theta_init = np.zeros(n)\n",
    "    eta_init = 1 / scipy.linalg.eigh(2 / len(y_train) * np.dot(K, K) + 2 * best_lambda * K, eigvals=(n - 1, n - 1),\n",
    "                                     eigvals_only=True)[0]\n",
    "    # Run the algorithm with the optimal lambda\n",
    "    print('Running fast gradient...')\n",
    "    alphas = fastgradalgo(alpha_init, theta_init, best_lambda, K, y_train, eta_init, maxiter, x_train, x_valid, y_valid, kernel)\n",
    "    print('Optimal alphas:', alphas[-1, :])\n",
    "    objective_plot(alphas, best_lambda, K, y_train, save_file='')\n",
    "    print('Misclassification error when lambda=', best_lambda, ':', misclassification_error(alphas[-1, :], x_train, x_test, y_test, kernel, kernel_params))"
   ]
  },
  {
   "cell_type": "code",
   "execution_count": 15,
   "metadata": {
    "collapsed": false
   },
   "outputs": [
    {
     "name": "stdout",
     "output_type": "stream",
     "text": [
      "Number of examples: 14867\n",
      "Computing the gram matrix...\n"
     ]
    },
    {
     "name": "stderr",
     "output_type": "stream",
     "text": [
      "/home/corinne/py3env/lib/python3.6/site-packages/sklearn/utils/validation.py:429: DataConversionWarning: Data with input dtype uint8 was converted to float64 by StandardScaler.\n",
      "  warnings.warn(msg, _DataConversionWarning)\n"
     ]
    },
    {
     "name": "stdout",
     "output_type": "stream",
     "text": [
      "Optimal lambda: 0.001\n",
      "Number of training examples:  148\n",
      "Running fast gradient...\n",
      "Optimal alphas: [ 0.87813357  0.87813242 -0.65818685  0.87811376 -0.21329908 -0.15456189\n",
      " -0.14138288  0.01801342  0.59691788 -0.09153826 -0.04616838  0.87777862\n",
      "  0.79163852  0.9911319   0.86066852  0.86346198  0.87010123  0.87467946\n",
      " -0.10516602  0.87805532  0.87814837 -0.1939581   0.8789449  -0.34431883\n",
      "  0.87812899  0.87814347 -0.02418387  0.87803482 -0.03699453 -0.0938437\n",
      "  0.82495053  0.87813357 -0.36821989  0.87062151  0.87808304 -0.14319768\n",
      " -0.21569659 -0.36990903  0.85823089  0.84295783 -0.02073174 -0.04510018\n",
      " -0.04825503 -0.38426548 -0.25370275 -0.47248027  0.87185629 -0.53195604\n",
      " -0.10856182  0.87238334 -0.27603593  0.87803393 -0.02664931 -0.41218125\n",
      "  0.75765457  0.87145263 -0.08819207  0.8240185   0.87478507  0.87799253\n",
      " -0.03634321  0.87813356 -0.21539042  0.04920462 -0.75402372  0.87447469\n",
      "  0.85580431  0.83297582  0.92144682 -0.73928246 -0.06547907  0.8781273\n",
      " -0.01163401 -0.00507318 -0.12352647 -0.00900817  0.87812799  0.8696998\n",
      " -0.03375907 -0.87703741 -0.05268837  0.85946054  0.87069537 -0.0304355\n",
      " -0.0189781   0.93241235 -0.01426211 -0.46830947 -0.86832603  0.82330151\n",
      " -0.06593055  0.87773294  0.87790079  0.86864426 -0.13121835  0.87813354\n",
      " -0.00931033 -0.68115028  0.87062425 -0.21715893 -0.25335796  0.86483443\n",
      "  0.87773962 -0.6062444  -0.08172684 -0.30510709 -0.30948544 -0.0956215\n",
      " -0.02755749 -0.05406792 -0.8712494   0.5951496  -0.08061463 -0.02480558\n",
      "  0.87604307  0.87891734 -0.02995598 -0.11967504 -0.87813347  0.87757044\n",
      " -0.08311667  0.85836943 -0.15835029 -0.38315791  0.8828207  -0.01532284\n",
      " -0.11041452 -0.04901235 -0.15594256 -0.71642946 -0.01412678  0.87259204\n",
      " -0.8778677  -0.16753174  0.8492248  -0.06748769  0.76768302  0.8548375\n",
      "  0.87803883 -0.77438029  0.86804099 -0.80949379 -0.14100391  0.87688944\n",
      " -0.61307628 -0.25965985 -0.02463815  0.8774984 ]\n"
     ]
    },
    {
     "data": {
      "image/png": "[encoded data removed]",
      "text/plain": [
       "<matplotlib.figure.Figure at 0x7fbed78ef630>"
      ]
     },
     "metadata": {},
     "output_type": "display_data"
    },
    {
     "name": "stdout",
     "output_type": "stream",
     "text": [
      "Misclassification error when lambda= 0.001 : 0.0872483221477\n"
     ]
    }
   ],
   "source": [
    "kernel_params = {'sigma': 10}\n",
    "train_svm(rbf, kernel_params, 'data_rbf10.pickle', maxiter=100, lambda_max=10**3)"
   ]
  },
  {
   "cell_type": "code",
   "execution_count": 16,
   "metadata": {
    "collapsed": false
   },
   "outputs": [
    {
     "name": "stdout",
     "output_type": "stream",
     "text": [
      "Optimal lambda: 100.0\n",
      "Number of training examples:  148\n",
      "Running fast gradient...\n",
      "Optimal alphas: [  5.75379330e-11   4.51727137e-09  -4.17220829e-08   4.97916510e-11\n",
      "  -1.74083576e-08  -1.57115507e-08  -2.03065695e-08  -1.52402045e-08\n",
      "   5.50613737e-08  -4.69999529e-08  -1.38774977e-08   6.24746040e-09\n",
      "   2.20739046e-08   1.29852324e-07   1.84494085e-08   3.10365938e-08\n",
      "   4.31789545e-08   6.71863869e-09  -3.48262656e-08  -1.19800796e-10\n",
      "   8.90466332e-10  -3.26244176e-08   3.57555227e-09  -2.62125637e-08\n",
      "   1.17880897e-09   1.37633213e-09  -2.27660192e-08   6.66092039e-10\n",
      "  -3.59791027e-08  -2.20264333e-08   1.18492228e-08   1.41428997e-10\n",
      "  -2.08677689e-08   6.81621398e-09   6.74003199e-10  -3.57327497e-08\n",
      "  -2.94694598e-08  -1.46897506e-08   1.92685735e-08   4.95293474e-08\n",
      "  -1.90953210e-08  -1.33123470e-08  -1.29018164e-08  -1.72344959e-08\n",
      "  -7.30894812e-08  -1.40328517e-08   5.04585562e-10  -1.61512021e-08\n",
      "  -1.86749506e-08   1.66333858e-08  -1.64485751e-08   2.72802561e-09\n",
      "  -2.17940779e-08  -4.82114012e-08   1.55906461e-08  -7.24058919e-10\n",
      "  -2.06375212e-08   3.71812464e-08   5.79825926e-09   1.97558369e-09\n",
      "  -1.45786740e-08   9.59273536e-11  -2.16288683e-08  -1.51891355e-08\n",
      "  -5.23713722e-10   1.72222998e-08   2.63477210e-08   2.07746784e-08\n",
      "   1.16022645e-07  -2.09301921e-08  -1.70326143e-08   2.45486165e-10\n",
      "  -1.52969151e-08  -4.31717475e-08  -1.88953660e-08  -1.93238702e-08\n",
      "   8.88670440e-10   1.75067587e-08  -2.12262545e-08  -9.02313047e-10\n",
      "  -1.95075489e-08  -7.64175036e-09   8.96605117e-09  -2.49082712e-08\n",
      "  -3.85541770e-08   1.17135660e-07  -2.23164789e-08  -1.50663346e-08\n",
      "  -5.15327830e-09   1.65022454e-08  -1.81331395e-08   4.98228339e-09\n",
      "   2.11121522e-09   2.24917377e-08  -1.30919800e-08  -3.40702229e-11\n",
      "  -4.31482655e-08  -7.69213647e-08   7.22715277e-09  -1.70131847e-08\n",
      "  -1.91458779e-08   1.69319266e-08   1.74824378e-08  -1.61739559e-08\n",
      "  -2.72035230e-08  -1.48048868e-08  -2.17852187e-08  -2.64733437e-08\n",
      "  -2.78954745e-08  -1.57703765e-08  -2.55857118e-09   4.11320976e-08\n",
      "  -1.59593240e-08  -3.14487528e-08   2.19780752e-09   1.18189312e-08\n",
      "  -1.98567995e-08  -3.58294214e-08  -4.95889664e-10   6.29888473e-09\n",
      "  -1.62493492e-08   1.25797998e-08  -2.44970874e-08  -2.54005137e-08\n",
      "   1.56621479e-08  -3.81994219e-08  -3.71210246e-08  -2.86795598e-08\n",
      "  -4.68139730e-08  -1.60413448e-08  -1.75301547e-08   1.62154617e-08\n",
      "  -3.61173878e-09  -2.37122942e-08   3.18689685e-08  -1.34590137e-08\n",
      "   4.02649887e-08   1.61682503e-08   1.48366926e-08  -5.21880300e-08\n",
      "   1.49137460e-08  -9.69340081e-09  -1.97417114e-08   3.39193154e-09\n",
      "  -1.70039046e-08  -1.38185472e-08  -1.65553311e-08   7.93467113e-09]\n"
     ]
    },
    {
     "data": {
      "image/png": "[encoded data removed]",
      "text/plain": [
       "<matplotlib.figure.Figure at 0x7fbed78ef198>"
      ]
     },
     "metadata": {},
     "output_type": "display_data"
    },
    {
     "name": "stdout",
     "output_type": "stream",
     "text": [
      "Misclassification error when lambda= 100.0 : 0.0402684563758\n"
     ]
    }
   ],
   "source": [
    "kernel_params = {'power': 3}\n",
    "train_svm(poly, kernel_params, 'data_poly3.pickle')"
   ]
  },
  {
   "cell_type": "code",
   "execution_count": 17,
   "metadata": {
    "collapsed": false
   },
   "outputs": [
    {
     "name": "stdout",
     "output_type": "stream",
     "text": [
      "Number of examples: 14867\n",
      "Computing the gram matrix...\n"
     ]
    },
    {
     "name": "stderr",
     "output_type": "stream",
     "text": [
      "/home/corinne/py3env/lib/python3.6/site-packages/sklearn/utils/validation.py:429: DataConversionWarning: Data with input dtype uint8 was converted to float64 by StandardScaler.\n",
      "  warnings.warn(msg, _DataConversionWarning)\n"
     ]
    },
    {
     "name": "stdout",
     "output_type": "stream",
     "text": [
      "Optimal lambda: 100000\n",
      "Number of training examples:  148\n",
      "Running fast gradient...\n",
      "Optimal alphas: [  4.47099211e-24   9.85847622e-22  -9.03649392e-23   5.55896254e-22\n",
      "  -6.69965317e-24  -1.41519774e-22  -2.43510196e-24  -1.01951980e-23\n",
      "   8.73315233e-23  -1.54285928e-24  -3.75329161e-24   6.32772698e-21\n",
      "   1.14608398e-22   5.12191686e-24   1.87010131e-21   5.88257700e-21\n",
      "   1.17375442e-20   4.92153207e-21  -3.71246795e-24   8.76822592e-22\n",
      "   7.60652675e-22  -3.25590111e-24   9.69992992e-21  -2.42819182e-23\n",
      "   6.16851371e-22   3.33724662e-21  -4.68380886e-24   9.97248822e-22\n",
      "  -3.52734255e-24  -1.41351675e-24   2.42938068e-22   1.72701165e-23\n",
      "  -3.42930393e-23   3.27342711e-21   1.86974342e-21  -2.47665269e-24\n",
      "  -1.63765703e-24  -2.13630829e-23   4.29488658e-22   1.84382949e-21\n",
      "  -1.76816845e-24  -1.48075624e-23  -3.33396823e-24  -1.12862077e-23\n",
      "  -6.66474780e-25  -1.65242901e-22   9.01925943e-21  -7.76156853e-23\n",
      "  -3.28926544e-23   8.44200016e-21  -4.30608949e-23   6.01995371e-21\n",
      "  -5.61021870e-24  -2.15715861e-24   4.04577556e-23   1.05326929e-20\n",
      "  -7.24163921e-24   1.93437825e-21   7.90856588e-21   1.20240151e-21\n",
      "  -5.15642083e-24   2.82950480e-22  -8.18843422e-24  -1.02384210e-23\n",
      "  -2.78818085e-21   1.16462608e-20   3.77209562e-21   9.62693124e-22\n",
      "   6.01134510e-24  -1.15028405e-22  -1.73383094e-23   4.00691774e-22\n",
      "  -2.56185912e-24  -1.19843576e-24  -3.57928790e-24  -3.29226990e-24\n",
      "   1.09122919e-21   5.90085463e-21  -1.09053358e-23  -2.32909785e-21\n",
      "  -1.47972132e-24   8.16533801e-22   1.60434143e-21  -2.26939855e-24\n",
      "  -1.06467241e-24   4.29063436e-24  -3.62028219e-24  -1.80549962e-22\n",
      "  -4.41319841e-21   1.26655893e-21  -2.35992448e-23   4.60037794e-21\n",
      "   1.60398480e-21   7.47289538e-21  -6.92114258e-24   1.59042870e-21\n",
      "  -1.30261142e-24  -6.96627688e-24   1.03235640e-21  -1.58479221e-24\n",
      "  -1.72172966e-24   9.17580684e-21   3.98755506e-21  -8.14752039e-23\n",
      "  -6.79682127e-24  -9.24745364e-24  -4.78919330e-24  -4.40503017e-24\n",
      "  -1.22920713e-24  -1.86611574e-24  -1.17100146e-20   1.62594403e-22\n",
      "  -1.91929928e-24  -4.93218105e-24   1.17370579e-20   2.20142949e-22\n",
      "  -3.07395937e-24  -2.37380483e-24  -8.66032286e-23   2.09831562e-21\n",
      "  -3.03093502e-24   4.09972221e-21  -3.80224553e-23  -7.32763227e-24\n",
      "   1.86809239e-22  -1.32841668e-24  -5.52620481e-24  -1.94554392e-24\n",
      "  -1.29005722e-24  -4.28096875e-22  -1.17716127e-23   6.73299575e-22\n",
      "  -8.80734841e-21  -9.51288289e-24   5.06146825e-21  -3.06681423e-24\n",
      "   1.74183732e-23   1.35023671e-22   1.63466563e-21  -3.72564814e-23\n",
      "   1.25821754e-21  -2.44141501e-21  -1.83235857e-24   3.56754683e-21\n",
      "  -6.11984506e-22  -4.81112567e-24  -1.92878714e-24   4.14990018e-21]\n"
     ]
    },
    {
     "data": {
      "image/png": "[encoded data removed]",
      "text/plain": [
       "<matplotlib.figure.Figure at 0x7fbec3f2dcc0>"
      ]
     },
     "metadata": {},
     "output_type": "display_data"
    },
    {
     "name": "stdout",
     "output_type": "stream",
     "text": [
      "Misclassification error when lambda= 100000 : 0.0335570469799\n"
     ]
    }
   ],
   "source": [
    "kernel_params = {'power': 7}\n",
    "train_svm(poly, kernel_params, 'data_poly7.pickle')"
   ]
  },
  {
   "cell_type": "markdown",
   "metadata": {},
   "source": [
    "You can see that it hasn't converged, but if you look at the misclassification error on the validation set, it is pretty much unchanging after fewer than 10000 iterations."
   ]
  },
  {
   "cell_type": "code",
   "execution_count": null,
   "metadata": {
    "collapsed": true
   },
   "outputs": [],
   "source": []
  }
 ],
 "metadata": {
  "kernelspec": {
   "display_name": "Python 3",
   "language": "python",
   "name": "python3"
  },
  "language_info": {
   "codemirror_mode": {
    "name": "ipython",
    "version": 3
   },
   "file_extension": ".py",
   "mimetype": "text/x-python",
   "name": "python",
   "nbconvert_exporter": "python",
   "pygments_lexer": "ipython3",
   "version": "3.6.0"
  }
 },
 "nbformat": 4,
 "nbformat_minor": 1
}
