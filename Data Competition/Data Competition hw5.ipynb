{
 "cells": [
  {
   "cell_type": "code",
   "execution_count": 114,
   "metadata": {
    "collapsed": true
   },
   "outputs": [],
   "source": [
    "import os\n",
    "import re\n",
    "import random\n",
    "\n",
    "import tensorflow as tf\n",
    "import tensorflow.python.platform\n",
    "from tensorflow.python.platform import gfile\n",
    "import numpy as np\n",
    "import pandas as pd\n",
    "import sklearn\n",
    "from sklearn import metrics\n",
    "from sklearn import model_selection\n",
    "import sklearn.linear_model\n",
    "from sklearn.model_selection import train_test_split\n",
    "from sklearn.metrics import accuracy_score, confusion_matrix\n",
    "from sklearn.svm import SVC, LinearSVC\n",
    "import matplotlib.pyplot as plt\n",
    "%matplotlib inline\n",
    "import pickle\n",
    "import scipy.linalg"
   ]
  },
  {
   "cell_type": "markdown",
   "metadata": {},
   "source": [
    "(1) Pick k = 5 classes of your choice from the dataset. You may choose any subset of 5 classes among all classes of the dataset."
   ]
  },
  {
   "cell_type": "code",
   "execution_count": 115,
   "metadata": {
    "collapsed": true
   },
   "outputs": [],
   "source": [
    "def list_files(dir):\n",
    "    folders = []\n",
    "    for root, dirs, files in os.walk(dir):\n",
    "        for r in dirs:\n",
    "            folders.append(r)\n",
    "    return folders\n",
    "\n",
    "def list_directories(folders_list):\n",
    "    images_dirs = []\n",
    "    for i in range(len(folders)):\n",
    "        images_d = '/Users/jingyany/Desktop/17Spring/Data558/data competation/five classes/'+folders[i]+'/'\n",
    "        images_dirs.append(images_d)\n",
    "    return images_dirs\n",
    "\n",
    "def images_lists(images_dirs):\n",
    "    list_images = []\n",
    "    for i in range(len(images_dirs)):\n",
    "        images_dir = images_dirs[i]\n",
    "        for f in os.listdir(images_dir):\n",
    "            if re.search('jpg|JPG', f):\n",
    "                list_images.append(images_dir + f)\n",
    "    return list_images"
   ]
  },
  {
   "cell_type": "code",
   "execution_count": 116,
   "metadata": {
    "collapsed": true
   },
   "outputs": [],
   "source": [
    "model_dir = '/Users/jingyany/models/tutorials/image/imagenet/TUTORIAL_DIR/imagenet'\n",
    "dir = '/Users/jingyany/Desktop/17Spring/Data558/data competation/five classes'\n",
    "folders = list_files(dir)\n",
    "images_dirs = list_directories(folders)\n",
    "list_images = images_lists(images_dirs)"
   ]
  },
  {
   "cell_type": "code",
   "execution_count": 117,
   "metadata": {
    "collapsed": false
   },
   "outputs": [],
   "source": [
    "def create_graph():\n",
    "    with gfile.FastGFile(os.path.join(model_dir, 'classify_image_graph_def.pb'), 'rb') as f:\n",
    "        graph_def = tf.GraphDef()\n",
    "        graph_def.ParseFromString(f.read())\n",
    "        _ = tf.import_graph_def(graph_def, name='')"
   ]
  },
  {
   "cell_type": "code",
   "execution_count": 118,
   "metadata": {
    "collapsed": true
   },
   "outputs": [],
   "source": [
    "def extract_features(list_images):\n",
    "    nb_features = 2048\n",
    "    features = np.empty((len(list_images),nb_features))\n",
    "    labels = []\n",
    "\n",
    "    create_graph()\n",
    "\n",
    "    with tf.Session() as sess:\n",
    "\n",
    "        next_to_last_tensor = sess.graph.get_tensor_by_name('pool_3:0')\n",
    "\n",
    "    for ind, image in enumerate(list_images):\n",
    "        #if (ind%100 == 0):\n",
    "        print('Processing %s...' % (image))\n",
    "        if not gfile.Exists(image):\n",
    "            tf.logging.fatal('File does not exist %s', image)\n",
    "\n",
    "        image_data = gfile.FastGFile(image, 'rb').read()\n",
    "        predictions = sess.run(next_to_last_tensor,{'DecodeJpeg/contents:0': image_data})\n",
    "        features[ind,:] = np.squeeze(predictions)\n",
    "        labels.append(re.split('_\\d+',image.split('/')[-2].split('.')[0])[0])\n",
    "    labels = list(map(int, labels))\n",
    "\n",
    "    return features, labels"
   ]
  },
  {
   "cell_type": "code",
   "execution_count": 119,
   "metadata": {
    "collapsed": false
   },
   "outputs": [
    {
     "name": "stdout",
     "output_type": "stream",
     "text": [
      "Processing /Users/jingyany/Desktop/17Spring/Data558/data competation/five classes/044.Frigatebird/Frigatebird_0004_43221.jpg...\n",
      "Processing /Users/jingyany/Desktop/17Spring/Data558/data competation/five classes/044.Frigatebird/Frigatebird_0006_43381.jpg...\n",
      "Processing /Users/jingyany/Desktop/17Spring/Data558/data competation/five classes/044.Frigatebird/Frigatebird_0008_43058.jpg...\n",
      "Processing /Users/jingyany/Desktop/17Spring/Data558/data competation/five classes/044.Frigatebird/Frigatebird_0011_43213.jpg...\n",
      "Processing /Users/jingyany/Desktop/17Spring/Data558/data competation/five classes/044.Frigatebird/Frigatebird_0012_43062.jpg...\n",
      "Processing /Users/jingyany/Desktop/17Spring/Data558/data competation/five classes/044.Frigatebird/Frigatebird_0015_43132.jpg...\n",
      "Processing /Users/jingyany/Desktop/17Spring/Data558/data competation/five classes/044.Frigatebird/Frigatebird_0016_43159.jpg...\n",
      "Processing /Users/jingyany/Desktop/17Spring/Data558/data competation/five classes/044.Frigatebird/Frigatebird_0023_43110.jpg...\n",
      "Processing /Users/jingyany/Desktop/17Spring/Data558/data competation/five classes/044.Frigatebird/Frigatebird_0034_43053.jpg...\n",
      "Processing /Users/jingyany/Desktop/17Spring/Data558/data competation/five classes/044.Frigatebird/Frigatebird_0040_42860.jpg...\n",
      "Processing /Users/jingyany/Desktop/17Spring/Data558/data competation/five classes/044.Frigatebird/Frigatebird_0047_43039.jpg...\n",
      "Processing /Users/jingyany/Desktop/17Spring/Data558/data competation/five classes/044.Frigatebird/Frigatebird_0054_43019.jpg...\n",
      "Processing /Users/jingyany/Desktop/17Spring/Data558/data competation/five classes/044.Frigatebird/Frigatebird_0057_43016.jpg...\n",
      "Processing /Users/jingyany/Desktop/17Spring/Data558/data competation/five classes/044.Frigatebird/Frigatebird_0058_43251.jpg...\n",
      "Processing /Users/jingyany/Desktop/17Spring/Data558/data competation/five classes/044.Frigatebird/Frigatebird_0060_43054.jpg...\n",
      "Processing /Users/jingyany/Desktop/17Spring/Data558/data competation/five classes/044.Frigatebird/Frigatebird_0062_43193.jpg...\n",
      "Processing /Users/jingyany/Desktop/17Spring/Data558/data competation/five classes/044.Frigatebird/Frigatebird_0070_43516.jpg...\n",
      "Processing /Users/jingyany/Desktop/17Spring/Data558/data competation/five classes/044.Frigatebird/Frigatebird_0081_42779.jpg...\n",
      "Processing /Users/jingyany/Desktop/17Spring/Data558/data competation/five classes/044.Frigatebird/Frigatebird_0082_42989.jpg...\n",
      "Processing /Users/jingyany/Desktop/17Spring/Data558/data competation/five classes/044.Frigatebird/Frigatebird_0088_43201.jpg...\n",
      "Processing /Users/jingyany/Desktop/17Spring/Data558/data competation/five classes/044.Frigatebird/Frigatebird_0089_43013.jpg...\n",
      "Processing /Users/jingyany/Desktop/17Spring/Data558/data competation/five classes/044.Frigatebird/Frigatebird_0092_43206.jpg...\n",
      "Processing /Users/jingyany/Desktop/17Spring/Data558/data competation/five classes/044.Frigatebird/Frigatebird_0095_42785.jpg...\n",
      "Processing /Users/jingyany/Desktop/17Spring/Data558/data competation/five classes/044.Frigatebird/Frigatebird_0097_43567.jpg...\n",
      "Processing /Users/jingyany/Desktop/17Spring/Data558/data competation/five classes/044.Frigatebird/Frigatebird_0107_42773.jpg...\n",
      "Processing /Users/jingyany/Desktop/17Spring/Data558/data competation/five classes/044.Frigatebird/Frigatebird_0114_42807.jpg...\n",
      "Processing /Users/jingyany/Desktop/17Spring/Data558/data competation/five classes/044.Frigatebird/Frigatebird_0115_42973.jpg...\n",
      "Processing /Users/jingyany/Desktop/17Spring/Data558/data competation/five classes/044.Frigatebird/Frigatebird_0116_43410.jpg...\n",
      "Processing /Users/jingyany/Desktop/17Spring/Data558/data competation/five classes/044.Frigatebird/Frigatebird_0118_43189.jpg...\n",
      "Processing /Users/jingyany/Desktop/17Spring/Data558/data competation/five classes/044.Frigatebird/Frigatebird_0120_43300.jpg...\n",
      "Processing /Users/jingyany/Desktop/17Spring/Data558/data competation/five classes/045.Northern_Fulmar/Northern_Fulmar_0008_43647.jpg...\n",
      "Processing /Users/jingyany/Desktop/17Spring/Data558/data competation/five classes/045.Northern_Fulmar/Northern_Fulmar_0011_43769.jpg...\n",
      "Processing /Users/jingyany/Desktop/17Spring/Data558/data competation/five classes/045.Northern_Fulmar/Northern_Fulmar_0015_43658.jpg...\n",
      "Processing /Users/jingyany/Desktop/17Spring/Data558/data competation/five classes/045.Northern_Fulmar/Northern_Fulmar_0016_43958.jpg...\n",
      "Processing /Users/jingyany/Desktop/17Spring/Data558/data competation/five classes/045.Northern_Fulmar/Northern_Fulmar_0021_43743.jpg...\n",
      "Processing /Users/jingyany/Desktop/17Spring/Data558/data competation/five classes/045.Northern_Fulmar/Northern_Fulmar_0028_43752.jpg...\n",
      "Processing /Users/jingyany/Desktop/17Spring/Data558/data competation/five classes/045.Northern_Fulmar/Northern_Fulmar_0029_44049.jpg...\n",
      "Processing /Users/jingyany/Desktop/17Spring/Data558/data competation/five classes/045.Northern_Fulmar/Northern_Fulmar_0031_43750.jpg...\n",
      "Processing /Users/jingyany/Desktop/17Spring/Data558/data competation/five classes/045.Northern_Fulmar/Northern_Fulmar_0033_43794.jpg...\n",
      "Processing /Users/jingyany/Desktop/17Spring/Data558/data competation/five classes/045.Northern_Fulmar/Northern_Fulmar_0036_43718.jpg...\n",
      "Processing /Users/jingyany/Desktop/17Spring/Data558/data competation/five classes/045.Northern_Fulmar/Northern_Fulmar_0037_43712.jpg...\n",
      "Processing /Users/jingyany/Desktop/17Spring/Data558/data competation/five classes/045.Northern_Fulmar/Northern_Fulmar_0038_43846.jpg...\n",
      "Processing /Users/jingyany/Desktop/17Spring/Data558/data competation/five classes/045.Northern_Fulmar/Northern_Fulmar_0039_43689.jpg...\n",
      "Processing /Users/jingyany/Desktop/17Spring/Data558/data competation/five classes/045.Northern_Fulmar/Northern_Fulmar_0041_44013.jpg...\n",
      "Processing /Users/jingyany/Desktop/17Spring/Data558/data competation/five classes/045.Northern_Fulmar/Northern_Fulmar_0042_43739.jpg...\n",
      "Processing /Users/jingyany/Desktop/17Spring/Data558/data competation/five classes/045.Northern_Fulmar/Northern_Fulmar_0043_43685.jpg...\n",
      "Processing /Users/jingyany/Desktop/17Spring/Data558/data competation/five classes/045.Northern_Fulmar/Northern_Fulmar_0045_43581.jpg...\n",
      "Processing /Users/jingyany/Desktop/17Spring/Data558/data competation/five classes/045.Northern_Fulmar/Northern_Fulmar_0047_43698.jpg...\n",
      "Processing /Users/jingyany/Desktop/17Spring/Data558/data competation/five classes/045.Northern_Fulmar/Northern_Fulmar_0049_43906.jpg...\n",
      "Processing /Users/jingyany/Desktop/17Spring/Data558/data competation/five classes/045.Northern_Fulmar/Northern_Fulmar_0052_43857.jpg...\n",
      "Processing /Users/jingyany/Desktop/17Spring/Data558/data competation/five classes/045.Northern_Fulmar/Northern_Fulmar_0056_43880.jpg...\n",
      "Processing /Users/jingyany/Desktop/17Spring/Data558/data competation/five classes/045.Northern_Fulmar/Northern_Fulmar_0058_44114.jpg...\n",
      "Processing /Users/jingyany/Desktop/17Spring/Data558/data competation/five classes/045.Northern_Fulmar/Northern_Fulmar_0061_43653.jpg...\n",
      "Processing /Users/jingyany/Desktop/17Spring/Data558/data competation/five classes/045.Northern_Fulmar/Northern_Fulmar_0063_43631.jpg...\n",
      "Processing /Users/jingyany/Desktop/17Spring/Data558/data competation/five classes/045.Northern_Fulmar/Northern_Fulmar_0071_44146.jpg...\n",
      "Processing /Users/jingyany/Desktop/17Spring/Data558/data competation/five classes/045.Northern_Fulmar/Northern_Fulmar_0077_43730.jpg...\n",
      "Processing /Users/jingyany/Desktop/17Spring/Data558/data competation/five classes/045.Northern_Fulmar/Northern_Fulmar_0081_43912.jpg...\n",
      "Processing /Users/jingyany/Desktop/17Spring/Data558/data competation/five classes/045.Northern_Fulmar/Northern_Fulmar_0097_43865.jpg...\n",
      "Processing /Users/jingyany/Desktop/17Spring/Data558/data competation/five classes/045.Northern_Fulmar/Northern_Fulmar_0098_43578.jpg...\n",
      "Processing /Users/jingyany/Desktop/17Spring/Data558/data competation/five classes/045.Northern_Fulmar/Northern_Fulmar_0100_43732.jpg...\n",
      "Processing /Users/jingyany/Desktop/17Spring/Data558/data competation/five classes/046.Gadwall/Gadwall_0001_31235.jpg...\n",
      "Processing /Users/jingyany/Desktop/17Spring/Data558/data competation/five classes/046.Gadwall/Gadwall_0005_30924.jpg...\n",
      "Processing /Users/jingyany/Desktop/17Spring/Data558/data competation/five classes/046.Gadwall/Gadwall_0009_31847.jpg...\n",
      "Processing /Users/jingyany/Desktop/17Spring/Data558/data competation/five classes/046.Gadwall/Gadwall_0012_30920.jpg...\n",
      "Processing /Users/jingyany/Desktop/17Spring/Data558/data competation/five classes/046.Gadwall/Gadwall_0017_30979.jpg...\n",
      "Processing /Users/jingyany/Desktop/17Spring/Data558/data competation/five classes/046.Gadwall/Gadwall_0019_30984.jpg...\n",
      "Processing /Users/jingyany/Desktop/17Spring/Data558/data competation/five classes/046.Gadwall/Gadwall_0024_30942.jpg...\n",
      "Processing /Users/jingyany/Desktop/17Spring/Data558/data competation/five classes/046.Gadwall/Gadwall_0025_30933.jpg...\n",
      "Processing /Users/jingyany/Desktop/17Spring/Data558/data competation/five classes/046.Gadwall/Gadwall_0027_30966.jpg...\n",
      "Processing /Users/jingyany/Desktop/17Spring/Data558/data competation/five classes/046.Gadwall/Gadwall_0029_31637.jpg...\n",
      "Processing /Users/jingyany/Desktop/17Spring/Data558/data competation/five classes/046.Gadwall/Gadwall_0031_30935.jpg...\n",
      "Processing /Users/jingyany/Desktop/17Spring/Data558/data competation/five classes/046.Gadwall/Gadwall_0036_31760.jpg...\n",
      "Processing /Users/jingyany/Desktop/17Spring/Data558/data competation/five classes/046.Gadwall/Gadwall_0039_31013.jpg...\n",
      "Processing /Users/jingyany/Desktop/17Spring/Data558/data competation/five classes/046.Gadwall/Gadwall_0040_31788.jpg...\n",
      "Processing /Users/jingyany/Desktop/17Spring/Data558/data competation/five classes/046.Gadwall/Gadwall_0041_31064.jpg...\n",
      "Processing /Users/jingyany/Desktop/17Spring/Data558/data competation/five classes/046.Gadwall/Gadwall_0047_31360.jpg...\n",
      "Processing /Users/jingyany/Desktop/17Spring/Data558/data competation/five classes/046.Gadwall/Gadwall_0048_31312.jpg...\n",
      "Processing /Users/jingyany/Desktop/17Spring/Data558/data competation/five classes/046.Gadwall/Gadwall_0055_30912.jpg...\n",
      "Processing /Users/jingyany/Desktop/17Spring/Data558/data competation/five classes/046.Gadwall/Gadwall_0065_31659.jpg...\n",
      "Processing /Users/jingyany/Desktop/17Spring/Data558/data competation/five classes/046.Gadwall/Gadwall_0069_31291.jpg...\n",
      "Processing /Users/jingyany/Desktop/17Spring/Data558/data competation/five classes/046.Gadwall/Gadwall_0076_31639.jpg...\n",
      "Processing /Users/jingyany/Desktop/17Spring/Data558/data competation/five classes/046.Gadwall/Gadwall_0080_31747.jpg...\n",
      "Processing /Users/jingyany/Desktop/17Spring/Data558/data competation/five classes/046.Gadwall/Gadwall_0082_31301.jpg...\n",
      "Processing /Users/jingyany/Desktop/17Spring/Data558/data competation/five classes/046.Gadwall/Gadwall_0085_31171.jpg...\n",
      "Processing /Users/jingyany/Desktop/17Spring/Data558/data competation/five classes/046.Gadwall/Gadwall_0086_31346.jpg...\n",
      "Processing /Users/jingyany/Desktop/17Spring/Data558/data competation/five classes/046.Gadwall/Gadwall_0088_31854.jpg...\n",
      "Processing /Users/jingyany/Desktop/17Spring/Data558/data competation/five classes/046.Gadwall/Gadwall_0091_30941.jpg...\n",
      "Processing /Users/jingyany/Desktop/17Spring/Data558/data competation/five classes/046.Gadwall/Gadwall_0092_31162.jpg...\n",
      "Processing /Users/jingyany/Desktop/17Spring/Data558/data competation/five classes/046.Gadwall/Gadwall_0095_30911.jpg...\n",
      "Processing /Users/jingyany/Desktop/17Spring/Data558/data competation/five classes/046.Gadwall/Gadwall_0096_31560.jpg...\n",
      "Processing /Users/jingyany/Desktop/17Spring/Data558/data competation/five classes/047.American_Goldfinch/American_Goldfinch_0001_32306.jpg...\n",
      "Processing /Users/jingyany/Desktop/17Spring/Data558/data competation/five classes/047.American_Goldfinch/American_Goldfinch_0003_32236.jpg...\n",
      "Processing /Users/jingyany/Desktop/17Spring/Data558/data competation/five classes/047.American_Goldfinch/American_Goldfinch_0012_32338.jpg...\n",
      "Processing /Users/jingyany/Desktop/17Spring/Data558/data competation/five classes/047.American_Goldfinch/American_Goldfinch_0029_32218.jpg...\n",
      "Processing /Users/jingyany/Desktop/17Spring/Data558/data competation/five classes/047.American_Goldfinch/American_Goldfinch_0034_32371.jpg...\n",
      "Processing /Users/jingyany/Desktop/17Spring/Data558/data competation/five classes/047.American_Goldfinch/American_Goldfinch_0043_31993.jpg...\n",
      "Processing /Users/jingyany/Desktop/17Spring/Data558/data competation/five classes/047.American_Goldfinch/American_Goldfinch_0046_32105.jpg...\n",
      "Processing /Users/jingyany/Desktop/17Spring/Data558/data competation/five classes/047.American_Goldfinch/American_Goldfinch_0048_32885.jpg...\n",
      "Processing /Users/jingyany/Desktop/17Spring/Data558/data competation/five classes/047.American_Goldfinch/American_Goldfinch_0049_31889.jpg...\n",
      "Processing /Users/jingyany/Desktop/17Spring/Data558/data competation/five classes/047.American_Goldfinch/American_Goldfinch_0056_32169.jpg...\n",
      "Processing /Users/jingyany/Desktop/17Spring/Data558/data competation/five classes/047.American_Goldfinch/American_Goldfinch_0061_32281.jpg...\n",
      "Processing /Users/jingyany/Desktop/17Spring/Data558/data competation/five classes/047.American_Goldfinch/American_Goldfinch_0082_31890.jpg...\n",
      "Processing /Users/jingyany/Desktop/17Spring/Data558/data competation/five classes/047.American_Goldfinch/American_Goldfinch_0084_32295.jpg...\n",
      "Processing /Users/jingyany/Desktop/17Spring/Data558/data competation/five classes/047.American_Goldfinch/American_Goldfinch_0086_31887.jpg...\n",
      "Processing /Users/jingyany/Desktop/17Spring/Data558/data competation/five classes/047.American_Goldfinch/American_Goldfinch_0090_31893.jpg...\n",
      "Processing /Users/jingyany/Desktop/17Spring/Data558/data competation/five classes/047.American_Goldfinch/American_Goldfinch_0091_31938.jpg...\n",
      "Processing /Users/jingyany/Desktop/17Spring/Data558/data competation/five classes/047.American_Goldfinch/American_Goldfinch_0096_31876.jpg...\n",
      "Processing /Users/jingyany/Desktop/17Spring/Data558/data competation/five classes/047.American_Goldfinch/American_Goldfinch_0100_32183.jpg...\n",
      "Processing /Users/jingyany/Desktop/17Spring/Data558/data competation/five classes/047.American_Goldfinch/American_Goldfinch_0103_32225.jpg...\n",
      "Processing /Users/jingyany/Desktop/17Spring/Data558/data competation/five classes/047.American_Goldfinch/American_Goldfinch_0104_32540.jpg...\n",
      "Processing /Users/jingyany/Desktop/17Spring/Data558/data competation/five classes/047.American_Goldfinch/American_Goldfinch_0111_32022.jpg...\n",
      "Processing /Users/jingyany/Desktop/17Spring/Data558/data competation/five classes/047.American_Goldfinch/American_Goldfinch_0115_32362.jpg...\n",
      "Processing /Users/jingyany/Desktop/17Spring/Data558/data competation/five classes/047.American_Goldfinch/American_Goldfinch_0116_31943.jpg...\n",
      "Processing /Users/jingyany/Desktop/17Spring/Data558/data competation/five classes/047.American_Goldfinch/American_Goldfinch_0118_32210.jpg...\n",
      "Processing /Users/jingyany/Desktop/17Spring/Data558/data competation/five classes/047.American_Goldfinch/American_Goldfinch_0121_32725.jpg...\n",
      "Processing /Users/jingyany/Desktop/17Spring/Data558/data competation/five classes/047.American_Goldfinch/American_Goldfinch_0122_32186.jpg...\n",
      "Processing /Users/jingyany/Desktop/17Spring/Data558/data competation/five classes/047.American_Goldfinch/American_Goldfinch_0126_32480.jpg...\n",
      "Processing /Users/jingyany/Desktop/17Spring/Data558/data competation/five classes/047.American_Goldfinch/American_Goldfinch_0128_32333.jpg...\n",
      "Processing /Users/jingyany/Desktop/17Spring/Data558/data competation/five classes/047.American_Goldfinch/American_Goldfinch_0131_32911.jpg...\n",
      "Processing /Users/jingyany/Desktop/17Spring/Data558/data competation/five classes/047.American_Goldfinch/American_Goldfinch_0134_32409.jpg...\n",
      "Processing /Users/jingyany/Desktop/17Spring/Data558/data competation/five classes/048.European_Goldfinch/European_Goldfinch_0004_33313.jpg...\n",
      "Processing /Users/jingyany/Desktop/17Spring/Data558/data competation/five classes/048.European_Goldfinch/European_Goldfinch_0006_794661.jpg...\n",
      "Processing /Users/jingyany/Desktop/17Spring/Data558/data competation/five classes/048.European_Goldfinch/European_Goldfinch_0014_794672.jpg...\n",
      "Processing /Users/jingyany/Desktop/17Spring/Data558/data competation/five classes/048.European_Goldfinch/European_Goldfinch_0020_794644.jpg...\n",
      "Processing /Users/jingyany/Desktop/17Spring/Data558/data competation/five classes/048.European_Goldfinch/European_Goldfinch_0022_794674.jpg...\n",
      "Processing /Users/jingyany/Desktop/17Spring/Data558/data competation/five classes/048.European_Goldfinch/European_Goldfinch_0025_794647.jpg...\n",
      "Processing /Users/jingyany/Desktop/17Spring/Data558/data competation/five classes/048.European_Goldfinch/European_Goldfinch_0032_794679.jpg...\n",
      "Processing /Users/jingyany/Desktop/17Spring/Data558/data competation/five classes/048.European_Goldfinch/European_Goldfinch_0034_33256.jpg...\n",
      "Processing /Users/jingyany/Desktop/17Spring/Data558/data competation/five classes/048.European_Goldfinch/European_Goldfinch_0037_33149.jpg...\n",
      "Processing /Users/jingyany/Desktop/17Spring/Data558/data competation/five classes/048.European_Goldfinch/European_Goldfinch_0045_794690.jpg...\n",
      "Processing /Users/jingyany/Desktop/17Spring/Data558/data competation/five classes/048.European_Goldfinch/European_Goldfinch_0046_33307.jpg...\n",
      "Processing /Users/jingyany/Desktop/17Spring/Data558/data competation/five classes/048.European_Goldfinch/European_Goldfinch_0048_794656.jpg...\n",
      "Processing /Users/jingyany/Desktop/17Spring/Data558/data competation/five classes/048.European_Goldfinch/European_Goldfinch_0052_33082.jpg...\n",
      "Processing /Users/jingyany/Desktop/17Spring/Data558/data competation/five classes/048.European_Goldfinch/European_Goldfinch_0053_794639.jpg...\n",
      "Processing /Users/jingyany/Desktop/17Spring/Data558/data competation/five classes/048.European_Goldfinch/European_Goldfinch_0058_794665.jpg...\n",
      "Processing /Users/jingyany/Desktop/17Spring/Data558/data competation/five classes/048.European_Goldfinch/European_Goldfinch_0062_794657.jpg...\n",
      "Processing /Users/jingyany/Desktop/17Spring/Data558/data competation/five classes/048.European_Goldfinch/European_Goldfinch_0064_794670.jpg...\n",
      "Processing /Users/jingyany/Desktop/17Spring/Data558/data competation/five classes/048.European_Goldfinch/European_Goldfinch_0068_33359.jpg...\n",
      "Processing /Users/jingyany/Desktop/17Spring/Data558/data competation/five classes/048.European_Goldfinch/European_Goldfinch_0073_794633.jpg...\n",
      "Processing /Users/jingyany/Desktop/17Spring/Data558/data competation/five classes/048.European_Goldfinch/European_Goldfinch_0077_33346.jpg...\n",
      "Processing /Users/jingyany/Desktop/17Spring/Data558/data competation/five classes/048.European_Goldfinch/European_Goldfinch_0080_33322.jpg...\n",
      "Processing /Users/jingyany/Desktop/17Spring/Data558/data competation/five classes/048.European_Goldfinch/European_Goldfinch_0084_33147.jpg...\n",
      "Processing /Users/jingyany/Desktop/17Spring/Data558/data competation/five classes/048.European_Goldfinch/European_Goldfinch_0089_33279.jpg...\n",
      "Processing /Users/jingyany/Desktop/17Spring/Data558/data competation/five classes/048.European_Goldfinch/European_Goldfinch_0093_794653.jpg...\n",
      "Processing /Users/jingyany/Desktop/17Spring/Data558/data competation/five classes/048.European_Goldfinch/European_Goldfinch_0098_33152.jpg...\n",
      "Processing /Users/jingyany/Desktop/17Spring/Data558/data competation/five classes/048.European_Goldfinch/European_Goldfinch_0100_794685.jpg...\n",
      "Processing /Users/jingyany/Desktop/17Spring/Data558/data competation/five classes/048.European_Goldfinch/European_Goldfinch_0101_33127.jpg...\n",
      "Processing /Users/jingyany/Desktop/17Spring/Data558/data competation/five classes/048.European_Goldfinch/European_Goldfinch_0103_794664.jpg...\n",
      "Processing /Users/jingyany/Desktop/17Spring/Data558/data competation/five classes/048.European_Goldfinch/European_Goldfinch_0104_794634.jpg...\n",
      "Processing /Users/jingyany/Desktop/17Spring/Data558/data competation/five classes/048.European_Goldfinch/European_Goldfinch_0107_794655.jpg...\n"
     ]
    }
   ],
   "source": [
    "features,labels = extract_features(list_images)"
   ]
  },
  {
   "cell_type": "code",
   "execution_count": 120,
   "metadata": {
    "collapsed": false
   },
   "outputs": [
    {
     "data": {
      "text/plain": [
       "array([44, 44, 44, 44, 44, 44, 44, 44, 44, 44, 44, 44, 44, 44, 44, 44, 44,\n",
       "       44, 44, 44, 44, 44, 44, 44, 44, 44, 44, 44, 44, 44, 45, 45, 45, 45,\n",
       "       45, 45, 45, 45, 45, 45, 45, 45, 45, 45, 45, 45, 45, 45, 45, 45, 45,\n",
       "       45, 45, 45, 45, 45, 45, 45, 45, 45, 46, 46, 46, 46, 46, 46, 46, 46,\n",
       "       46, 46, 46, 46, 46, 46, 46, 46, 46, 46, 46, 46, 46, 46, 46, 46, 46,\n",
       "       46, 46, 46, 46, 46, 47, 47, 47, 47, 47, 47, 47, 47, 47, 47, 47, 47,\n",
       "       47, 47, 47, 47, 47, 47, 47, 47, 47, 47, 47, 47, 47, 47, 47, 47, 47,\n",
       "       47, 48, 48, 48, 48, 48, 48, 48, 48, 48, 48, 48, 48, 48, 48, 48, 48,\n",
       "       48, 48, 48, 48, 48, 48, 48, 48, 48, 48, 48, 48, 48, 48])"
      ]
     },
     "execution_count": 120,
     "metadata": {},
     "output_type": "execute_result"
    }
   ],
   "source": [
    "labels = np.asarray(labels)\n",
    "labels"
   ]
  },
  {
   "cell_type": "markdown",
   "metadata": {},
   "source": [
    "(2) Write a function that, for any class at hand, creates a training set with an equal number of examples from the class at hand and from the other classes. You may simply randomly pick the examples from the other classes."
   ]
  },
  {
   "cell_type": "code",
   "execution_count": 121,
   "metadata": {
    "collapsed": true
   },
   "outputs": [],
   "source": [
    "def create_training(features, labels, start, num=30):\n",
    "    if start == 0:\n",
    "        X_one_class = features[:num]\n",
    "        y_one_class = labels[:num]\n",
    "        X_other_classes = features[num:]\n",
    "        y_other_classes = labels[num:]\n",
    "    else: \n",
    "        X_one_class = features[start:(start+num)]\n",
    "        y_one_class = labels[start:(start+num)]\n",
    "        X_other_classes = np.concatenate([features[:start], features[(start+num):]])\n",
    "        y_other_classes = np.concatenate([labels[:start], labels[(start+num):]])\n",
    "    index = np.random.choice(y_other_classes.shape[0],num,False)\n",
    "    index = index.tolist()\n",
    "    y_other_classes_num= np.zeros(num)\n",
    "    X_other_classes_num = np.zeros((num,2048))\n",
    "    \n",
    "    for i in range(len(index)):\n",
    "        X_other_classes_num[i] = X_other_classes[index[i]]\n",
    "        y_other_classes_num[i] = y_other_classes[index[i]]\n",
    "        \n",
    "    return X_one_class, y_one_class, X_other_classes_num, y_other_classes_num"
   ]
  },
  {
   "cell_type": "markdown",
   "metadata": {},
   "source": [
    "(3) For each class c, train an $l_2^2$-regularized logistic regression classifier using your own fast gradient algorithm with $\\lambda_c$ = 1. Display the confusion matrix. Which classes seem to be the most difficult to classify?"
   ]
  },
  {
   "cell_type": "markdown",
   "metadata": {},
   "source": [
    "#### SVM Multi-Class Classification\n",
    "- A SVM is a binary classifier, that is, the class labels can only take two values: ±1.\n",
    "- Many real-world problems, however, have more than two classes (e.g. optical character recognition).\n",
    "\n",
    "One Versus the Rest: To get M-class classifiers, construct set of binary classifiers f1,f2,...,fM, each trained to\n",
    "separate one class from rest.\n",
    "\n",
    "Combine them to get a multi-class classification according to the maximal output before applying the sgn function."
   ]
  },
  {
   "cell_type": "code",
   "execution_count": 122,
   "metadata": {
    "collapsed": true
   },
   "outputs": [],
   "source": [
    "def computegrad(beta, lamda, x, y):\n",
    "    n = len(y)\n",
    "    yx = y[:, None]*x\n",
    "    upper = yx*np.exp(-yx.dot(beta[:, None]))\n",
    "    bottom = np.exp(-yx.dot(beta))+1\n",
    "    gradient = -1/n *np.sum(upper/bottom[:, None], axis=0) + 2*lamda*beta\n",
    "                            \n",
    "    return gradient\n",
    "\n",
    "def function(beta, lamda, x, y):\n",
    "    n = len(y)\n",
    "    yx = y[:, None]*x\n",
    "    f = 1/n*(np.sum(np.log(np.exp(-yx.dot(beta))+1))) + lamda*np.linalg.norm(beta)**2\n",
    "    return f\n",
    "\n",
    "def backtracking(beta, lamda, t=1, alpha=0.5, beta_s=0.8, max_iter=100):\n",
    "    grad_beta = computegrad(beta, lamda, x=X_train, y=y_train)\n",
    "    norm_grad_beta = np.linalg.norm(grad_beta)\n",
    "    found_t = 0 \n",
    "    iter = 0 \n",
    "    while (found_t == 0 and iter < max_iter):       \n",
    "        if (function(beta - t*grad_beta, lamda, x=X_train, y=y_train)) < (function(beta, lamda, x=X_train, y=y_train)-alpha*t*(norm_grad_beta)**2):\n",
    "            found_t = 1        \n",
    "        elif(iter == max_iter):\n",
    "            stop(\"Maximum number of iterations reached\")         \n",
    "        else:\n",
    "            t = t*beta_s\n",
    "            iter = iter + 1   \n",
    "    return t \n",
    "\n",
    "def fastgradalgo(beta_init,theta,lamda,t_init, max_iter=500):\n",
    "    beta = beta_init\n",
    "    grad_theta = computegrad(beta, lamda, x=X_train, y=y_train)\n",
    "    beta_vals = theta\n",
    "    \n",
    "    iter = 0\n",
    "    while(iter < max_iter):         \n",
    "        t = backtracking(beta, lamda)\n",
    "        beta1 = theta - t*grad_theta\n",
    "        theta = beta1 + t/(t+3)*(beta1 - beta)\n",
    "        beta_vals = np.vstack((beta_vals, theta))\n",
    "        grad_theta = computegrad(theta, lamda, x=X_train, y=y_train)\n",
    "        beta = beta1\n",
    "        iter = iter + 1\n",
    "        \n",
    "    return beta_vals\n",
    "\n",
    "def get_predicted(beta_opt, x):\n",
    "    y_pred = 1/(1+np.exp(-x.dot(beta_opt))) > 0.5\n",
    "    y_pred = y_pred*2 - 1  # Convert to +/- 1\n",
    "    return y_pred"
   ]
  },
  {
   "cell_type": "code",
   "execution_count": 123,
   "metadata": {
    "collapsed": false
   },
   "outputs": [],
   "source": [
    "def redefine_lables(labels, number):\n",
    "    for i in range(labels.shape[0]):\n",
    "        if labels[i] == number:\n",
    "            labels[i] = 1\n",
    "        else:\n",
    "            labels[i] = -1\n",
    "    return labels"
   ]
  },
  {
   "cell_type": "code",
   "execution_count": 124,
   "metadata": {
    "collapsed": true
   },
   "outputs": [],
   "source": [
    "def get_confusion_matrix(X, y, X_rest, y_rest, number, first_class):\n",
    "    X_new = np.concatenate([X,X_rest])\n",
    "    y_new = np.concatenate([y,y_rest])\n",
    "    y_new = redefine_lables(y_new, first_class)\n",
    "    X_train1, X_test1, y_train1, y_test1 = train_test_split(X_new, y_new, test_size=0.2, random_state=42)\n",
    "    X_train = X_train1\n",
    "    y_train = y_train1\n",
    "    d = np.size(X_train, 1)\n",
    "    beta = np.zeros(d)\n",
    "    theta = np.zeros(d)\n",
    "    lambduh = 1\n",
    "    eta_init = 1/(scipy.linalg.eigh(1/len(y_train)*X_train.T.dot(X_train), eigvals=(d-1, d-1), eigvals_only=True)[0]+lambduh)\n",
    "    fgd_betas = fastgradalgo(beta_init=beta,theta=theta,lamda=1,t_init=eta_init)\n",
    "    y_pred = get_predicted(fgd_betas[-1], X_test1)\n",
    "    return metrics.confusion_matrix(y_test1, y_pred)"
   ]
  },
  {
   "cell_type": "code",
   "execution_count": 125,
   "metadata": {
    "collapsed": false
   },
   "outputs": [
    {
     "data": {
      "text/plain": [
       "array([44, 44, 44, 44, 44, 44, 44, 44, 44, 44, 44, 44, 44, 44, 44, 44, 44,\n",
       "       44, 44, 44, 44, 44, 44, 44, 44, 44, 44, 44, 44, 44])"
      ]
     },
     "execution_count": 125,
     "metadata": {},
     "output_type": "execute_result"
    }
   ],
   "source": [
    "#Use class 1 versus rest classes\n",
    "X1,y1,X_rest_1, y_rest_1 = create_training(features, labels, 0)\n",
    "y1"
   ]
  },
  {
   "cell_type": "code",
   "execution_count": 126,
   "metadata": {
    "collapsed": false
   },
   "outputs": [],
   "source": [
    "class1_cm = get_confusion_matrix(X1,y1,X_rest_1, y_rest_1, 0, 44)"
   ]
  },
  {
   "cell_type": "code",
   "execution_count": 127,
   "metadata": {
    "collapsed": false
   },
   "outputs": [
    {
     "data": {
      "text/plain": [
       "array([45, 45, 45, 45, 45, 45, 45, 45, 45, 45, 45, 45, 45, 45, 45, 45, 45,\n",
       "       45, 45, 45, 45, 45, 45, 45, 45, 45, 45, 45, 45, 45])"
      ]
     },
     "execution_count": 127,
     "metadata": {},
     "output_type": "execute_result"
    }
   ],
   "source": [
    "#Use class 2 versus rest classes\n",
    "X2,y2,X_rest_2, y_rest_2 = create_training(features, labels, 30)\n",
    "y2"
   ]
  },
  {
   "cell_type": "code",
   "execution_count": 128,
   "metadata": {
    "collapsed": false
   },
   "outputs": [],
   "source": [
    "class2_cm = get_confusion_matrix(X2,y2,X_rest_2, y_rest_2, 30, 45)"
   ]
  },
  {
   "cell_type": "code",
   "execution_count": 129,
   "metadata": {
    "collapsed": false
   },
   "outputs": [
    {
     "data": {
      "text/plain": [
       "array([46, 46, 46, 46, 46, 46, 46, 46, 46, 46, 46, 46, 46, 46, 46, 46, 46,\n",
       "       46, 46, 46, 46, 46, 46, 46, 46, 46, 46, 46, 46, 46])"
      ]
     },
     "execution_count": 129,
     "metadata": {},
     "output_type": "execute_result"
    }
   ],
   "source": [
    "#Use class 3 versus rest classes\n",
    "X3,y3,X_rest_3, y_rest_3 = create_training(features, labels, 60)\n",
    "y3"
   ]
  },
  {
   "cell_type": "code",
   "execution_count": 130,
   "metadata": {
    "collapsed": false
   },
   "outputs": [],
   "source": [
    "class3_cm = get_confusion_matrix(X3,y3,X_rest_3, y_rest_3, 60, 46)"
   ]
  },
  {
   "cell_type": "code",
   "execution_count": 131,
   "metadata": {
    "collapsed": false
   },
   "outputs": [
    {
     "data": {
      "text/plain": [
       "array([47, 47, 47, 47, 47, 47, 47, 47, 47, 47, 47, 47, 47, 47, 47, 47, 47,\n",
       "       47, 47, 47, 47, 47, 47, 47, 47, 47, 47, 47, 47, 47])"
      ]
     },
     "execution_count": 131,
     "metadata": {},
     "output_type": "execute_result"
    }
   ],
   "source": [
    "#Use class 4 versus rest classes\n",
    "X4,y4,X_rest_4, y_rest_4 = create_training(features, labels, 90)\n",
    "y4"
   ]
  },
  {
   "cell_type": "code",
   "execution_count": 132,
   "metadata": {
    "collapsed": false
   },
   "outputs": [],
   "source": [
    "class4_cm = get_confusion_matrix(X4,y4,X_rest_4, y_rest_4, 90, 47)"
   ]
  },
  {
   "cell_type": "code",
   "execution_count": 133,
   "metadata": {
    "collapsed": false
   },
   "outputs": [
    {
     "data": {
      "text/plain": [
       "array([48, 48, 48, 48, 48, 48, 48, 48, 48, 48, 48, 48, 48, 48, 48, 48, 48,\n",
       "       48, 48, 48, 48, 48, 48, 48, 48, 48, 48, 48, 48, 48])"
      ]
     },
     "execution_count": 133,
     "metadata": {},
     "output_type": "execute_result"
    }
   ],
   "source": [
    "#Use class 5 versus rest classes\n",
    "X5,y5,X_rest_5, y_rest_5 = create_training(features, labels, 120)\n",
    "y5"
   ]
  },
  {
   "cell_type": "code",
   "execution_count": 134,
   "metadata": {
    "collapsed": false
   },
   "outputs": [],
   "source": [
    "class5_cm = get_confusion_matrix(X5,y5,X_rest_5, y_rest_5, 120, 48)"
   ]
  },
  {
   "cell_type": "code",
   "execution_count": 135,
   "metadata": {
    "collapsed": false
   },
   "outputs": [
    {
     "name": "stdout",
     "output_type": "stream",
     "text": [
      "[[8 0]\n",
      " [0 4]]\n",
      "[[7 1]\n",
      " [3 1]]\n",
      "[[4 4]\n",
      " [4 0]]\n",
      "[[7 1]\n",
      " [4 0]]\n",
      "[[6 2]\n",
      " [4 0]]\n"
     ]
    }
   ],
   "source": [
    "print(class1_cm)\n",
    "print(class2_cm)\n",
    "print(class3_cm)\n",
    "print(class4_cm)\n",
    "print(class5_cm)"
   ]
  },
  {
   "cell_type": "markdown",
   "metadata": {},
   "source": [
    "Anwser: class 2 seems to be the most difficult to classify, since the number of correctly predicted lables is the smallest among all 5 classes."
   ]
  },
  {
   "cell_type": "markdown",
   "metadata": {},
   "source": [
    "(4) Write a function that returns the ranked list of classes in terms of classification difficulty using the confusion matrix. Compute the multi-class misclassification error."
   ]
  },
  {
   "cell_type": "code",
   "execution_count": 136,
   "metadata": {
    "collapsed": false
   },
   "outputs": [],
   "source": [
    "#np.vstack((class1_cm), (class2_cm), (class3_cm), (class4_cm), (class5_cm))\n",
    "multi_matrix = np.zeros((2,2))\n",
    "#for i in range(5):\n",
    "multi_matrix = np.vstack(class2_cm)\n",
    "multi_matrix = np.vstack((multi_matrix, class3_cm))\n",
    "multi_matrix = np.vstack((multi_matrix, class5_cm))\n",
    "multi_matrix = np.vstack((multi_matrix, class4_cm))\n",
    "multi_matrix = np.vstack((multi_matrix, class1_cm))"
   ]
  },
  {
   "cell_type": "code",
   "execution_count": 137,
   "metadata": {
    "collapsed": false
   },
   "outputs": [
    {
     "data": {
      "text/plain": [
       "array([[7, 1],\n",
       "       [3, 1],\n",
       "       [4, 4],\n",
       "       [4, 0],\n",
       "       [6, 2],\n",
       "       [4, 0],\n",
       "       [7, 1],\n",
       "       [4, 0],\n",
       "       [8, 0],\n",
       "       [0, 4]])"
      ]
     },
     "execution_count": 137,
     "metadata": {},
     "output_type": "execute_result"
    }
   ],
   "source": [
    "multi_matrix"
   ]
  },
  {
   "cell_type": "code",
   "execution_count": 138,
   "metadata": {
    "collapsed": false
   },
   "outputs": [
    {
     "data": {
      "text/plain": [
       "0.7755102040816326"
      ]
     },
     "execution_count": 138,
     "metadata": {},
     "output_type": "execute_result"
    }
   ],
   "source": [
    "precision = (5+7+7+11+8)/((5+7+7+11+8)+(3+4+4))\n",
    "precision"
   ]
  },
  {
   "cell_type": "code",
   "execution_count": 139,
   "metadata": {
    "collapsed": false
   },
   "outputs": [
    {
     "data": {
      "text/plain": [
       "0.8837209302325582"
      ]
     },
     "execution_count": 139,
     "metadata": {},
     "output_type": "execute_result"
    }
   ],
   "source": [
    "recall = (5+7+7+11+8)/((5+7+7+11+8)+(1+4))\n",
    "recall"
   ]
  },
  {
   "cell_type": "code",
   "execution_count": 140,
   "metadata": {
    "collapsed": false
   },
   "outputs": [
    {
     "data": {
      "text/plain": [
       "0.826086956521739"
      ]
     },
     "execution_count": 140,
     "metadata": {},
     "output_type": "execute_result"
    }
   ],
   "source": [
    "f1_score = 2*precision*recall/(precision+recall)\n",
    "f1_score"
   ]
  },
  {
   "cell_type": "markdown",
   "metadata": {},
   "source": [
    "Answer: I used F1 score to estimate the multi-class misclassification error of those 5 classes. The error rate is about 0.826."
   ]
  },
  {
   "cell_type": "markdown",
   "metadata": {},
   "source": [
    "(5) Find the values of the regularization parameters $\\lambda_1,..., \\lambda_k$ for the classifiers using a hold-out validation set strategy. Define a grid of values $\\Lambda$ for each parameter $\\lambda_c$ with c = 1,..., k. For each setting of the regularization parameters $\\lambda_1,..., \\lambda_k$, where each $\\lambda_c$ can take values in $\\Lambda$ (independently), train all your k = 5 classifiers and save the multi-class misclassification error on the validation set for each setting of the regularization parameters $\\lambda_1,..., \\lambda_k$"
   ]
  },
  {
   "cell_type": "code",
   "execution_count": 149,
   "metadata": {
    "collapsed": true
   },
   "outputs": [],
   "source": [
    "def get_train_test(X, y, X_rest, y_rest, number, first_class):\n",
    "    X_new = np.concatenate([X,X_rest])\n",
    "    y_new = np.concatenate([y,y_rest])\n",
    "    y_new = redefine_lables(y_new, first_class)\n",
    "    X_train1, X_test1, y_train1, y_test1 = train_test_split(X_new, y_new, test_size=0.2, random_state=42)\n",
    "    #X_train = X_train1\n",
    "    #y_train = y_train1\n",
    "    #d = np.size(X_train, 1)\n",
    "    #beta = np.zeros(d)\n",
    "    #theta = np.zeros(d)\n",
    "    #lambduh = 1\n",
    "    #eta_init = 1/(scipy.linalg.eigh(1/len(y_train)*X_train.T.dot(X_train), eigvals=(d-1, d-1), eigvals_only=True)[0]+lambduh)\n",
    "    #fgd_betas = fastgradalgo(beta_init=beta,theta=theta,lamda=lambduh,t_init=eta_init)\n",
    "    #y_pred = get_predicted(fgd_betas[-1], X_test1)\n",
    "    return X_train1, X_test1, y_train1, y_test1"
   ]
  },
  {
   "cell_type": "code",
   "execution_count": 152,
   "metadata": {
    "collapsed": true
   },
   "outputs": [],
   "source": [
    "def compute_misclassification_error(beta_opt, x, y):\n",
    "    y_pred = 1/(1+np.exp(-x.dot(beta_opt))) > 0.5\n",
    "    y_pred = y_pred*2 - 1 \n",
    "    return np.mean(y_pred != y)"
   ]
  },
  {
   "cell_type": "code",
   "execution_count": 150,
   "metadata": {
    "collapsed": false
   },
   "outputs": [
    {
     "data": {
      "text/plain": [
       "array([44, 44, 44, 44, 44, 44, 44, 44, 44, 44, 44, 44, 44, 44, 44, 44, 44,\n",
       "       44, 44, 44, 44, 44, 44, 44, 44, 44, 44, 44, 44, 44])"
      ]
     },
     "execution_count": 150,
     "metadata": {},
     "output_type": "execute_result"
    }
   ],
   "source": [
    "#Use class 1 versus rest classes\n",
    "X1,y1,X_rest_1, y_rest_1 = create_training(features, labels, 0)\n",
    "y1"
   ]
  },
  {
   "cell_type": "code",
   "execution_count": 151,
   "metadata": {
    "collapsed": false
   },
   "outputs": [],
   "source": [
    "X_train1, X_test1, y_train1, y_test1 = get_train_test(X1,y1,X_rest_1, y_rest_1, 0, 44)"
   ]
  },
  {
   "cell_type": "code",
   "execution_count": 158,
   "metadata": {
    "collapsed": false
   },
   "outputs": [
    {
     "name": "stdout",
     "output_type": "stream",
     "text": [
      "Smallest misclassification error value: 0.0 at lambda = 0.001\n"
     ]
    }
   ],
   "source": [
    "#misclassification error for classifier 1\n",
    "lambdas = [10.0**i for i in np.arange(-3, 3, 1)]\n",
    "misclsf_error_1 = np.zeros_like(lambdas)\n",
    "for i in range(len(lambdas)):\n",
    "    lambduh = lambdas[i]\n",
    "    beta_init = np.zeros(d)\n",
    "    X_train = X_train1\n",
    "    y_train = y_train1\n",
    "    X_test = X_test1\n",
    "    y_test = y_test1\n",
    "    eta_init = 1/(scipy.linalg.eigh(1/len(y_train)*X_train.T.dot(X_train), eigvals=(d-1, d-1), eigvals_only=True)[0]+lambduh)\n",
    "    betas_rand = fastgradalgo(beta_init=beta_init,theta=beta_init,lamda=lambduh,t_init=eta_init)\n",
    "    misclsf_error_1[i] = compute_misclassification_error(betas_rand[-1], X_test, y_test)\n",
    "print('Smallest misclassification error value:', min(misclsf_error_1), 'at lambda =', lambdas[np.argmin(misclsf_error_1)])"
   ]
  },
  {
   "cell_type": "code",
   "execution_count": 159,
   "metadata": {
    "collapsed": true
   },
   "outputs": [],
   "source": [
    "X_train2, X_test2, y_train2, y_test2 = get_train_test(X2,y2,X_rest_2, y_rest_2, 30, 45)"
   ]
  },
  {
   "cell_type": "code",
   "execution_count": 160,
   "metadata": {
    "collapsed": false
   },
   "outputs": [
    {
     "name": "stdout",
     "output_type": "stream",
     "text": [
      "Smallest misclassification error value: 0.0 at lambda = 0.001\n"
     ]
    }
   ],
   "source": [
    "#misclassification error for classifier 2\n",
    "lambdas = [10.0**i for i in np.arange(-3, 3, 1)]\n",
    "misclsf_error_2 = np.zeros_like(lambdas)\n",
    "for i in range(len(lambdas)):\n",
    "    lambduh = lambdas[i]\n",
    "    beta_init = np.zeros(d)\n",
    "    X_train = X_train2\n",
    "    y_train = y_train2\n",
    "    X_test = X_test2\n",
    "    y_test = y_test2\n",
    "    eta_init = 1/(scipy.linalg.eigh(1/len(y_train)*X_train.T.dot(X_train), eigvals=(d-1, d-1), eigvals_only=True)[0]+lambduh)\n",
    "    betas_rand = fastgradalgo(beta_init=beta_init,theta=beta_init,lamda=lambduh,t_init=eta_init)\n",
    "    misclsf_error_1[i] = compute_misclassification_error(betas_rand[-1], X_test, y_test)\n",
    "print('Smallest misclassification error value:', min(misclsf_error_2), 'at lambda =', lambdas[np.argmin(misclsf_error_2)])"
   ]
  },
  {
   "cell_type": "code",
   "execution_count": 161,
   "metadata": {
    "collapsed": true
   },
   "outputs": [],
   "source": [
    "X_train3, X_test3, y_train3, y_test3 = get_train_test(X3,y3,X_rest_3, y_rest_3, 60, 46)"
   ]
  },
  {
   "cell_type": "code",
   "execution_count": 162,
   "metadata": {
    "collapsed": false
   },
   "outputs": [
    {
     "name": "stdout",
     "output_type": "stream",
     "text": [
      "Smallest misclassification error value: 0.0 at lambda = 0.001\n"
     ]
    }
   ],
   "source": [
    "#misclassification error for classifier 3\n",
    "lambdas = [10.0**i for i in np.arange(-3, 3, 1)]\n",
    "misclsf_error_3 = np.zeros_like(lambdas)\n",
    "for i in range(len(lambdas)):\n",
    "    lambduh = lambdas[i]\n",
    "    beta_init = np.zeros(d)\n",
    "    X_train = X_train3\n",
    "    y_train = y_train3\n",
    "    X_test = X_test3\n",
    "    y_test = y_test3\n",
    "    eta_init = 1/(scipy.linalg.eigh(1/len(y_train)*X_train.T.dot(X_train), eigvals=(d-1, d-1), eigvals_only=True)[0]+lambduh)\n",
    "    betas_rand = fastgradalgo(beta_init=beta_init,theta=beta_init,lamda=lambduh,t_init=eta_init)\n",
    "    misclsf_error_1[i] = compute_misclassification_error(betas_rand[-1], X_test, y_test)\n",
    "print('Smallest misclassification error value:', min(misclsf_error_3), 'at lambda =', lambdas[np.argmin(misclsf_error_3)])"
   ]
  },
  {
   "cell_type": "code",
   "execution_count": 163,
   "metadata": {
    "collapsed": true
   },
   "outputs": [],
   "source": [
    "X_train4, X_test4, y_train4, y_test4 = get_train_test(X4,y4,X_rest_4, y_rest_4, 90, 47)"
   ]
  },
  {
   "cell_type": "code",
   "execution_count": 164,
   "metadata": {
    "collapsed": false
   },
   "outputs": [
    {
     "name": "stdout",
     "output_type": "stream",
     "text": [
      "Smallest misclassification error value: 0.0 at lambda = 0.001\n"
     ]
    }
   ],
   "source": [
    "#misclassification error for classifier 4\n",
    "lambdas = [10.0**i for i in np.arange(-3, 3, 1)]\n",
    "misclsf_error_4 = np.zeros_like(lambdas)\n",
    "for i in range(len(lambdas)):\n",
    "    lambduh = lambdas[i]\n",
    "    beta_init = np.zeros(d)\n",
    "    X_train = X_train4\n",
    "    y_train = y_train4\n",
    "    X_test = X_test4\n",
    "    y_test = y_test4\n",
    "    eta_init = 1/(scipy.linalg.eigh(1/len(y_train)*X_train.T.dot(X_train), eigvals=(d-1, d-1), eigvals_only=True)[0]+lambduh)\n",
    "    betas_rand = fastgradalgo(beta_init=beta_init,theta=beta_init,lamda=lambduh,t_init=eta_init)\n",
    "    misclsf_error_1[i] = compute_misclassification_error(betas_rand[-1], X_test, y_test)\n",
    "print('Smallest misclassification error value:', min(misclsf_error_4), 'at lambda =', lambdas[np.argmin(misclsf_error_4)])"
   ]
  },
  {
   "cell_type": "code",
   "execution_count": 165,
   "metadata": {
    "collapsed": true
   },
   "outputs": [],
   "source": [
    "X_train5, X_test5, y_train5, y_test5 = get_train_test(X5,y5,X_rest_5, y_rest_5, 120, 48)"
   ]
  },
  {
   "cell_type": "code",
   "execution_count": 166,
   "metadata": {
    "collapsed": false
   },
   "outputs": [
    {
     "name": "stdout",
     "output_type": "stream",
     "text": [
      "Smallest misclassification error value: 0.0 at lambda = 0.001\n"
     ]
    }
   ],
   "source": [
    "#misclassification error for classifier 5\n",
    "lambdas = [10.0**i for i in np.arange(-3, 3, 1)]\n",
    "misclsf_error_5 = np.zeros_like(lambdas)\n",
    "for i in range(len(lambdas)):\n",
    "    lambduh = lambdas[i]\n",
    "    beta_init = np.zeros(d)\n",
    "    X_train = X_train5\n",
    "    y_train = y_train5\n",
    "    X_test = X_test5\n",
    "    y_test = y_test5\n",
    "    eta_init = 1/(scipy.linalg.eigh(1/len(y_train)*X_train.T.dot(X_train), eigvals=(d-1, d-1), eigvals_only=True)[0]+lambduh)\n",
    "    betas_rand = fastgradalgo(beta_init=beta_init,theta=beta_init,lamda=lambduh,t_init=eta_init)\n",
    "    misclsf_error_1[i] = compute_misclassification_error(betas_rand[-1], X_test, y_test)\n",
    "print('Smallest misclassification error value:', min(misclsf_error_5), 'at lambda =', lambdas[np.argmin(misclsf_error_5)])"
   ]
  },
  {
   "cell_type": "markdown",
   "metadata": {},
   "source": [
    "(6) Find the optimal value of the regularization parameters $\\lambda_1,..., \\lambda_k$ based on the validation error. Display the confusion matrix for this setting of the regularization param-\n",
    "eters."
   ]
  },
  {
   "cell_type": "code",
   "execution_count": 169,
   "metadata": {
    "collapsed": true
   },
   "outputs": [],
   "source": [
    "#The optimal lambda is 0.001 for all five classifiers\n",
    "def get_opt_confusion_matrix(X, y, X_rest, y_rest, number, first_class):\n",
    "    X_new = np.concatenate([X,X_rest])\n",
    "    y_new = np.concatenate([y,y_rest])\n",
    "    y_new = redefine_lables(y_new, first_class)\n",
    "    X_train1, X_test1, y_train1, y_test1 = train_test_split(X_new, y_new, test_size=0.2, random_state=42)\n",
    "    X_train = X_train1\n",
    "    y_train = y_train1\n",
    "    d = np.size(X_train, 1)\n",
    "    beta = np.zeros(d)\n",
    "    theta = np.zeros(d)\n",
    "    lambduh = 0.001\n",
    "    eta_init = 1/(scipy.linalg.eigh(1/len(y_train)*X_train.T.dot(X_train), eigvals=(d-1, d-1), eigvals_only=True)[0]+lambduh)\n",
    "    fgd_betas = fastgradalgo(beta_init=beta,theta=theta,lamda=1,t_init=eta_init)\n",
    "    y_pred = get_predicted(fgd_betas[-1], X_test1)\n",
    "    return metrics.confusion_matrix(y_test1, y_pred)\n"
   ]
  },
  {
   "cell_type": "code",
   "execution_count": 170,
   "metadata": {
    "collapsed": false
   },
   "outputs": [],
   "source": [
    "class1_cm_opt = get_opt_confusion_matrix(X1,y1,X_rest_1, y_rest_1, 0, 44)\n",
    "class2_cm_opt = get_opt_confusion_matrix(X2,y2,X_rest_2, y_rest_2, 30, 45)\n",
    "class3_cm_opt = get_opt_confusion_matrix(X3,y3,X_rest_3, y_rest_3, 60, 46)\n",
    "class4_cm_opt = get_opt_confusion_matrix(X4,y4,X_rest_4, y_rest_4, 90, 47)\n",
    "class5_cm_opt = get_opt_confusion_matrix(X5,y5,X_rest_5, y_rest_5, 120, 48)"
   ]
  },
  {
   "cell_type": "code",
   "execution_count": 171,
   "metadata": {
    "collapsed": false
   },
   "outputs": [
    {
     "name": "stdout",
     "output_type": "stream",
     "text": [
      "[[6 2]\n",
      " [4 0]]\n",
      "[[4 4]\n",
      " [4 0]]\n",
      "[[4 4]\n",
      " [4 0]]\n",
      "[[6 2]\n",
      " [1 3]]\n",
      "[[5 3]\n",
      " [0 4]]\n"
     ]
    }
   ],
   "source": [
    "print(class1_cm_opt)\n",
    "print(class2_cm_opt)\n",
    "print(class3_cm_opt)\n",
    "print(class4_cm_opt)\n",
    "print(class5_cm_opt)"
   ]
  },
  {
   "cell_type": "code",
   "execution_count": null,
   "metadata": {
    "collapsed": true
   },
   "outputs": [],
   "source": []
  },
  {
   "cell_type": "code",
   "execution_count": null,
   "metadata": {
    "collapsed": true
   },
   "outputs": [],
   "source": []
  }
 ],
 "metadata": {
  "kernelspec": {
   "display_name": "Python 3",
   "language": "python",
   "name": "python3"
  },
  "language_info": {
   "codemirror_mode": {
    "name": "ipython",
    "version": 3
   },
   "file_extension": ".py",
   "mimetype": "text/x-python",
   "name": "python",
   "nbconvert_exporter": "python",
   "pygments_lexer": "ipython3",
   "version": "3.6.0"
  }
 },
 "nbformat": 4,
 "nbformat_minor": 2
}
