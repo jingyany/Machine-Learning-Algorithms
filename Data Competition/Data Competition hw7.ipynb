{
 "cells": [
  {
   "cell_type": "code",
   "execution_count": 19,
   "metadata": {
    "collapsed": true
   },
   "outputs": [],
   "source": [
    "import os\n",
    "import re\n",
    "import random\n",
    "import itertools\n",
    "\n",
    "import tensorflow as tf\n",
    "import tensorflow.python.platform\n",
    "from tensorflow.python.platform import gfile\n",
    "import numpy as np\n",
    "import pandas as pd\n",
    "import sklearn\n",
    "from sklearn import metrics\n",
    "from sklearn import model_selection\n",
    "import sklearn.linear_model\n",
    "from sklearn.model_selection import train_test_split\n",
    "from sklearn.metrics import accuracy_score, confusion_matrix\n",
    "from sklearn.svm import SVC, LinearSVC\n",
    "import matplotlib.pyplot as plt\n",
    "%matplotlib inline\n",
    "import pickle\n",
    "import scipy.linalg"
   ]
  },
  {
   "cell_type": "markdown",
   "metadata": {},
   "source": [
    "In this exercise, you are going to train support vector machines (SVMs) using scikit-learn and the data competition project dataset. You will consider here all classes in the dataset. You may work on this exercise on your own computer first. Note, however, that you need AWS to run the experiments for the last two parts of this exercise."
   ]
  },
  {
   "cell_type": "markdown",
   "metadata": {},
   "source": [
    "### Warm-up\n",
    "\n",
    "- In a one-vs-one fashion, for each pairs of classes, train a linear SVM classifier using scikit-learn's function LinearSVC, with the default value for the regularization parameter. Compute the multi-class misclassification error obtained using these classifiers trained in a one-vs-one fashion."
   ]
  },
  {
   "cell_type": "code",
   "execution_count": 39,
   "metadata": {
    "collapsed": false
   },
   "outputs": [],
   "source": [
    "def list_files(dir):\n",
    "    folders = []\n",
    "    for root, dirs, files in os.walk(dir):\n",
    "        for r in dirs:\n",
    "            folders.append(r)\n",
    "    return folders\n",
    "\n",
    "def list_directories(folders):\n",
    "    images_dirs = []\n",
    "    for i in range(len(folders)):\n",
    "        images_d = '/Users/jingyany/Desktop/17Spring/Data558/data competation/train/'+folders[i]+'/'\n",
    "        images_dirs.append(images_d)\n",
    "    return images_dirs\n",
    "\n",
    "def images_lists(images_dirs):\n",
    "    list_images = []\n",
    "    for i in range(len(images_dirs)):\n",
    "        images_dir = images_dirs[i]\n",
    "        for f in os.listdir(images_dir):\n",
    "            if re.search('jpg|JPG', f):\n",
    "                list_images.append(images_dir + f)\n",
    "    return list_images"
   ]
  },
  {
   "cell_type": "code",
   "execution_count": 22,
   "metadata": {
    "collapsed": true
   },
   "outputs": [],
   "source": [
    "model_dir = '/Users/jingyany/models/tutorials/image/imagenet/TUTORIAL_DIR/imagenet'\n",
    "dir = '/Users/jingyany/Desktop/17Spring/Data558/data competation/train'\n",
    "folders = list_files(dir)\n",
    "classes_pairs_tuple = list(itertools.combinations(folders, 2))\n",
    "classes_pairs_lists = [list(elem) for elem in comb_pairs_tuple]\n",
    "#for i in range(len(classes_pairs_lists)):\n",
    "    #list_directories(classes_pairs_lists[i])\n",
    "#classes_dirs = list_directories(folders)\n",
    "#list_images = images_lists(classes_dirs)"
   ]
  },
  {
   "cell_type": "code",
   "execution_count": 73,
   "metadata": {
    "collapsed": false
   },
   "outputs": [
    {
     "data": {
      "text/plain": [
       "10296"
      ]
     },
     "execution_count": 73,
     "metadata": {},
     "output_type": "execute_result"
    }
   ],
   "source": [
    "len(classes_pairs_lists)"
   ]
  },
  {
   "cell_type": "code",
   "execution_count": 35,
   "metadata": {
    "collapsed": false
   },
   "outputs": [],
   "source": [
    "def list_directories_temp(folders):\n",
    "    images_dirs = []\n",
    "    for i in range(len(folders)):\n",
    "        images_d = '/Users/jingyany/Desktop/17Spring/Data558/data competation/train/'+folders[i]+'/'\n",
    "        images_dirs.append(images_d)\n",
    "    return images_dirs"
   ]
  },
  {
   "cell_type": "code",
   "execution_count": 44,
   "metadata": {
    "collapsed": false
   },
   "outputs": [],
   "source": [
    "tem_pair = classes_pairs_lists[7]\n",
    "temp_dir_list = list_directories(tem_pair)\n",
    "pairs_imagelists = images_lists(temp_dir_list)"
   ]
  },
  {
   "cell_type": "code",
   "execution_count": 68,
   "metadata": {
    "collapsed": true
   },
   "outputs": [],
   "source": [
    "def create_graph():\n",
    "    with gfile.FastGFile(os.path.join(model_dir, 'classify_image_graph_def.pb'), 'rb') as f:\n",
    "        graph_def = tf.GraphDef()\n",
    "        graph_def.ParseFromString(f.read())\n",
    "        _ = tf.import_graph_def(graph_def, name='')\n",
    "        \n",
    "def extract_features(list_images):\n",
    "    nb_features = 2048\n",
    "    features = np.empty((len(list_images),nb_features))\n",
    "    labels = []\n",
    "\n",
    "    create_graph()\n",
    "\n",
    "    with tf.Session() as sess:\n",
    "\n",
    "        next_to_last_tensor = sess.graph.get_tensor_by_name('pool_3:0')\n",
    "\n",
    "    for ind, image in enumerate(list_images):\n",
    "        #if (ind%100 == 0):\n",
    "        print('Processing %s...' % (image))\n",
    "        if not gfile.Exists(image):\n",
    "            tf.logging.fatal('File does not exist %s', image)\n",
    "\n",
    "        image_data = gfile.FastGFile(image, 'rb').read()\n",
    "        predictions = sess.run(next_to_last_tensor,{'DecodeJpeg/contents:0': image_data})\n",
    "        features[ind,:] = np.squeeze(predictions)\n",
    "        labels.append(re.split('_\\d+',image.split('/')[-2].split('.')[0])[0])\n",
    "    labels = list(map(int, labels))\n",
    "\n",
    "    return features, labels\n",
    "\n",
    "def redefine_lables(labels):\n",
    "    for i in range(labels[0:30].shape[0]):\n",
    "        labels[i] =1\n",
    "    for i in range(labels[0:30].shape[0]):\n",
    "        labels[30+i] = -1\n",
    "    \n",
    "    return labels"
   ]
  },
  {
   "cell_type": "code",
   "execution_count": 75,
   "metadata": {
    "collapsed": false
   },
   "outputs": [
    {
     "name": "stdout",
     "output_type": "stream",
     "text": [
      "Processing /Users/jingyany/Desktop/17Spring/Data558/data competation/train/001.Black_footed_Albatross/Black_Footed_Albatross_0003_796136.jpg...\n",
      "Processing /Users/jingyany/Desktop/17Spring/Data558/data competation/train/001.Black_footed_Albatross/Black_Footed_Albatross_0005_796090.jpg...\n",
      "Processing /Users/jingyany/Desktop/17Spring/Data558/data competation/train/001.Black_footed_Albatross/Black_Footed_Albatross_0009_34.jpg...\n",
      "Processing /Users/jingyany/Desktop/17Spring/Data558/data competation/train/001.Black_footed_Albatross/Black_Footed_Albatross_0014_89.jpg...\n",
      "Processing /Users/jingyany/Desktop/17Spring/Data558/data competation/train/001.Black_footed_Albatross/Black_Footed_Albatross_0023_796059.jpg...\n",
      "Processing /Users/jingyany/Desktop/17Spring/Data558/data competation/train/001.Black_footed_Albatross/Black_Footed_Albatross_0024_796089.jpg...\n",
      "Processing /Users/jingyany/Desktop/17Spring/Data558/data competation/train/001.Black_footed_Albatross/Black_Footed_Albatross_0025_796057.jpg...\n",
      "Processing /Users/jingyany/Desktop/17Spring/Data558/data competation/train/001.Black_footed_Albatross/Black_Footed_Albatross_0031_100.jpg...\n",
      "Processing /Users/jingyany/Desktop/17Spring/Data558/data competation/train/001.Black_footed_Albatross/Black_Footed_Albatross_0032_796115.jpg...\n",
      "Processing /Users/jingyany/Desktop/17Spring/Data558/data competation/train/001.Black_footed_Albatross/Black_Footed_Albatross_0033_796086.jpg...\n",
      "Processing /Users/jingyany/Desktop/17Spring/Data558/data competation/train/001.Black_footed_Albatross/Black_Footed_Albatross_0036_796127.jpg...\n",
      "Processing /Users/jingyany/Desktop/17Spring/Data558/data competation/train/001.Black_footed_Albatross/Black_Footed_Albatross_0038_212.jpg...\n",
      "Processing /Users/jingyany/Desktop/17Spring/Data558/data competation/train/001.Black_footed_Albatross/Black_Footed_Albatross_0039_796132.jpg...\n",
      "Processing /Users/jingyany/Desktop/17Spring/Data558/data competation/train/001.Black_footed_Albatross/Black_Footed_Albatross_0041_796108.jpg...\n",
      "Processing /Users/jingyany/Desktop/17Spring/Data558/data competation/train/001.Black_footed_Albatross/Black_Footed_Albatross_0042_796071.jpg...\n",
      "Processing /Users/jingyany/Desktop/17Spring/Data558/data competation/train/001.Black_footed_Albatross/Black_Footed_Albatross_0049_796063.jpg...\n",
      "Processing /Users/jingyany/Desktop/17Spring/Data558/data competation/train/001.Black_footed_Albatross/Black_Footed_Albatross_0050_796125.jpg...\n",
      "Processing /Users/jingyany/Desktop/17Spring/Data558/data competation/train/001.Black_footed_Albatross/Black_Footed_Albatross_0056_796078.jpg...\n",
      "Processing /Users/jingyany/Desktop/17Spring/Data558/data competation/train/001.Black_footed_Albatross/Black_Footed_Albatross_0057_796106.jpg...\n",
      "Processing /Users/jingyany/Desktop/17Spring/Data558/data competation/train/001.Black_footed_Albatross/Black_Footed_Albatross_0060_796076.jpg...\n",
      "Processing /Users/jingyany/Desktop/17Spring/Data558/data competation/train/001.Black_footed_Albatross/Black_Footed_Albatross_0061_796082.jpg...\n",
      "Processing /Users/jingyany/Desktop/17Spring/Data558/data competation/train/001.Black_footed_Albatross/Black_Footed_Albatross_0063_796141.jpg...\n",
      "Processing /Users/jingyany/Desktop/17Spring/Data558/data competation/train/001.Black_footed_Albatross/Black_Footed_Albatross_0076_417.jpg...\n",
      "Processing /Users/jingyany/Desktop/17Spring/Data558/data competation/train/001.Black_footed_Albatross/Black_Footed_Albatross_0077_796114.jpg...\n",
      "Processing /Users/jingyany/Desktop/17Spring/Data558/data competation/train/001.Black_footed_Albatross/Black_Footed_Albatross_0078_796126.jpg...\n",
      "Processing /Users/jingyany/Desktop/17Spring/Data558/data competation/train/001.Black_footed_Albatross/Black_Footed_Albatross_0080_796096.jpg...\n",
      "Processing /Users/jingyany/Desktop/17Spring/Data558/data competation/train/001.Black_footed_Albatross/Black_Footed_Albatross_0081_426.jpg...\n",
      "Processing /Users/jingyany/Desktop/17Spring/Data558/data competation/train/001.Black_footed_Albatross/Black_Footed_Albatross_0085_92.jpg...\n",
      "Processing /Users/jingyany/Desktop/17Spring/Data558/data competation/train/001.Black_footed_Albatross/Black_Footed_Albatross_0088_796133.jpg...\n",
      "Processing /Users/jingyany/Desktop/17Spring/Data558/data competation/train/001.Black_footed_Albatross/Black_Footed_Albatross_0090_796077.jpg...\n",
      "Processing /Users/jingyany/Desktop/17Spring/Data558/data competation/train/025.Pelagic_Cormorant/Pelagic_Cormorant_0001_23538.jpg...\n",
      "Processing /Users/jingyany/Desktop/17Spring/Data558/data competation/train/025.Pelagic_Cormorant/Pelagic_Cormorant_0002_23680.jpg...\n",
      "Processing /Users/jingyany/Desktop/17Spring/Data558/data competation/train/025.Pelagic_Cormorant/Pelagic_Cormorant_0003_23695.jpg...\n",
      "Processing /Users/jingyany/Desktop/17Spring/Data558/data competation/train/025.Pelagic_Cormorant/Pelagic_Cormorant_0008_23602.jpg...\n",
      "Processing /Users/jingyany/Desktop/17Spring/Data558/data competation/train/025.Pelagic_Cormorant/Pelagic_Cormorant_0009_23561.jpg...\n",
      "Processing /Users/jingyany/Desktop/17Spring/Data558/data competation/train/025.Pelagic_Cormorant/Pelagic_Cormorant_0010_23711.jpg...\n",
      "Processing /Users/jingyany/Desktop/17Spring/Data558/data competation/train/025.Pelagic_Cormorant/Pelagic_Cormorant_0014_23801.jpg...\n",
      "Processing /Users/jingyany/Desktop/17Spring/Data558/data competation/train/025.Pelagic_Cormorant/Pelagic_Cormorant_0016_23509.jpg...\n",
      "Processing /Users/jingyany/Desktop/17Spring/Data558/data competation/train/025.Pelagic_Cormorant/Pelagic_Cormorant_0019_23546.jpg...\n",
      "Processing /Users/jingyany/Desktop/17Spring/Data558/data competation/train/025.Pelagic_Cormorant/Pelagic_Cormorant_0022_23802.jpg...\n",
      "Processing /Users/jingyany/Desktop/17Spring/Data558/data competation/train/025.Pelagic_Cormorant/Pelagic_Cormorant_0024_23712.jpg...\n",
      "Processing /Users/jingyany/Desktop/17Spring/Data558/data competation/train/025.Pelagic_Cormorant/Pelagic_Cormorant_0025_23776.jpg...\n",
      "Processing /Users/jingyany/Desktop/17Spring/Data558/data competation/train/025.Pelagic_Cormorant/Pelagic_Cormorant_0029_23545.jpg...\n",
      "Processing /Users/jingyany/Desktop/17Spring/Data558/data competation/train/025.Pelagic_Cormorant/Pelagic_Cormorant_0032_23570.jpg...\n",
      "Processing /Users/jingyany/Desktop/17Spring/Data558/data competation/train/025.Pelagic_Cormorant/Pelagic_Cormorant_0033_23530.jpg...\n",
      "Processing /Users/jingyany/Desktop/17Spring/Data558/data competation/train/025.Pelagic_Cormorant/Pelagic_Cormorant_0035_23849.jpg...\n",
      "Processing /Users/jingyany/Desktop/17Spring/Data558/data competation/train/025.Pelagic_Cormorant/Pelagic_Cormorant_0041_23763.jpg...\n",
      "Processing /Users/jingyany/Desktop/17Spring/Data558/data competation/train/025.Pelagic_Cormorant/Pelagic_Cormorant_0047_23718.jpg...\n",
      "Processing /Users/jingyany/Desktop/17Spring/Data558/data competation/train/025.Pelagic_Cormorant/Pelagic_Cormorant_0055_23415.jpg...\n",
      "Processing /Users/jingyany/Desktop/17Spring/Data558/data competation/train/025.Pelagic_Cormorant/Pelagic_Cormorant_0061_23548.jpg...\n",
      "Processing /Users/jingyany/Desktop/17Spring/Data558/data competation/train/025.Pelagic_Cormorant/Pelagic_Cormorant_0062_23623.jpg...\n",
      "Processing /Users/jingyany/Desktop/17Spring/Data558/data competation/train/025.Pelagic_Cormorant/Pelagic_Cormorant_0063_23515.jpg...\n",
      "Processing /Users/jingyany/Desktop/17Spring/Data558/data competation/train/025.Pelagic_Cormorant/Pelagic_Cormorant_0064_23641.jpg...\n",
      "Processing /Users/jingyany/Desktop/17Spring/Data558/data competation/train/025.Pelagic_Cormorant/Pelagic_Cormorant_0071_23964.jpg...\n",
      "Processing /Users/jingyany/Desktop/17Spring/Data558/data competation/train/025.Pelagic_Cormorant/Pelagic_Cormorant_0073_23785.jpg...\n",
      "Processing /Users/jingyany/Desktop/17Spring/Data558/data competation/train/025.Pelagic_Cormorant/Pelagic_Cormorant_0074_23511.jpg...\n",
      "Processing /Users/jingyany/Desktop/17Spring/Data558/data competation/train/025.Pelagic_Cormorant/Pelagic_Cormorant_0083_23557.jpg...\n",
      "Processing /Users/jingyany/Desktop/17Spring/Data558/data competation/train/025.Pelagic_Cormorant/Pelagic_Cormorant_0084_23836.jpg...\n",
      "Processing /Users/jingyany/Desktop/17Spring/Data558/data competation/train/025.Pelagic_Cormorant/Pelagic_Cormorant_0098_23783.jpg...\n",
      "Processing /Users/jingyany/Desktop/17Spring/Data558/data competation/train/025.Pelagic_Cormorant/Pelagic_Cormorant_0100_23894.jpg...\n"
     ]
    }
   ],
   "source": [
    "features1,labels1 = extract_features(pairs_imagelists)"
   ]
  },
  {
   "cell_type": "code",
   "execution_count": 76,
   "metadata": {
    "collapsed": false
   },
   "outputs": [],
   "source": [
    "labels1 = np.asarray(labels1)\n",
    "#labels1 = redefine_lables(labels1)"
   ]
  },
  {
   "cell_type": "code",
   "execution_count": 77,
   "metadata": {
    "collapsed": true
   },
   "outputs": [],
   "source": [
    "X_train, X_test, y_train, y_test = train_test_split(features1, labels1, test_size=0.2, random_state=42)"
   ]
  },
  {
   "cell_type": "code",
   "execution_count": 78,
   "metadata": {
    "collapsed": false
   },
   "outputs": [],
   "source": [
    "svm1 = LinearSVC().fit(X_train, y_train)"
   ]
  },
  {
   "cell_type": "code",
   "execution_count": 80,
   "metadata": {
    "collapsed": false
   },
   "outputs": [
    {
     "data": {
      "text/plain": [
       "array([ 1,  1, 25, 25,  1, 25, 25, 25,  1, 25, 25, 25])"
      ]
     },
     "execution_count": 80,
     "metadata": {},
     "output_type": "execute_result"
    }
   ],
   "source": [
    "y_pred = svm1.predict(X_test)\n",
    "y_pred"
   ]
  },
  {
   "cell_type": "code",
   "execution_count": 81,
   "metadata": {
    "collapsed": false
   },
   "outputs": [
    {
     "data": {
      "text/plain": [
       "array([ 1,  1, 25, 25,  1, 25, 25, 25,  1, 25, 25, 25])"
      ]
     },
     "execution_count": 81,
     "metadata": {},
     "output_type": "execute_result"
    }
   ],
   "source": [
    "y_test"
   ]
  },
  {
   "cell_type": "code",
   "execution_count": null,
   "metadata": {
    "collapsed": true
   },
   "outputs": [],
   "source": []
  },
  {
   "cell_type": "markdown",
   "metadata": {},
   "source": [
    "- In a one-vs-rest fashion, for each class, train a linear SVM classifier using scikit-learn's function LinearSVC, with the default value for $\\lambda_c$. Compute the multi-class misclassification error obtained using these classi\f",
    "ers trained in a one-vs-rest fashion."
   ]
  },
  {
   "cell_type": "markdown",
   "metadata": {},
   "source": [
    "- Using the option multi class='crammer singer' in scikitlearn's function LinearSVC, train a multi-class linear SVM classifier using the default value for the regularization parameter. Compute the multi-class misclassification error obtained using this multi-class linear SVM classifier."
   ]
  },
  {
   "cell_type": "markdown",
   "metadata": {},
   "source": [
    "### Linear SVMs for multi-class classification"
   ]
  },
  {
   "cell_type": "markdown",
   "metadata": {},
   "source": [
    "- Redo all questions above now tuning the regularization parameters using cross-validation."
   ]
  },
  {
   "cell_type": "markdown",
   "metadata": {},
   "source": [
    "### Kernel SVMs for multi-class classification"
   ]
  },
  {
   "cell_type": "markdown",
   "metadata": {},
   "source": [
    "- Redo all questions above now using the polynomial kernel of order 2 (and tuning the regularization parameters using cross-validation)."
   ]
  },
  {
   "cell_type": "code",
   "execution_count": null,
   "metadata": {
    "collapsed": true
   },
   "outputs": [],
   "source": []
  }
 ],
 "metadata": {
  "kernelspec": {
   "display_name": "Python 3",
   "language": "python",
   "name": "python3"
  },
  "language_info": {
   "codemirror_mode": {
    "name": "ipython",
    "version": 3
   },
   "file_extension": ".py",
   "mimetype": "text/x-python",
   "name": "python",
   "nbconvert_exporter": "python",
   "pygments_lexer": "ipython3",
   "version": "3.6.0"
  }
 },
 "nbformat": 4,
 "nbformat_minor": 2
}
