{
 "cells": [
  {
   "cell_type": "code",
   "execution_count": 93,
   "metadata": {
    "collapsed": false
   },
   "outputs": [],
   "source": [
    "import os\n",
    "import re\n",
    "\n",
    "import tensorflow as tf\n",
    "import tensorflow.python.platform\n",
    "from tensorflow.python.platform import gfile\n",
    "import numpy as np\n",
    "import pandas as pd\n",
    "import sklearn\n",
    "from sklearn import model_selection\n",
    "import sklearn.linear_model\n",
    "from sklearn.model_selection import train_test_split\n",
    "from sklearn.metrics import accuracy_score, confusion_matrix\n",
    "from sklearn.svm import SVC, LinearSVC\n",
    "import matplotlib.pyplot as plt\n",
    "%matplotlib inline\n",
    "import pickle\n",
    "import scipy.linalg"
   ]
  },
  {
   "cell_type": "markdown",
   "metadata": {},
   "source": [
    "(1) Pick two classes of your choice from the dataset. Train an $l_2^2$-regularized logistic regression classifier on the training set using your own fast gradient algorithm with $\\lambda$ = 1. Plot, with different colors, the misclassification error on the training set and on the validation set vs iterations."
   ]
  },
  {
   "cell_type": "code",
   "execution_count": 2,
   "metadata": {
    "collapsed": false
   },
   "outputs": [],
   "source": [
    "def list_files(dir):\n",
    "    folders = []\n",
    "    for root, dirs, files in os.walk(dir):\n",
    "        for r in dirs:\n",
    "            folders.append(r)\n",
    "    return folders\n",
    "\n",
    "def list_directories(folders_list):\n",
    "    images_dirs = []\n",
    "    for i in range(len(folders)):\n",
    "        images_d = '/Users/jingyany/Desktop/17Spring/Data558/data competation/test two classes/'+folders[i]+'/'\n",
    "        images_dirs.append(images_d)\n",
    "    return images_dirs\n",
    "\n",
    "def images_lists(images_dirs):\n",
    "    list_images = []\n",
    "    for i in range(len(images_dirs)):\n",
    "        images_dir = images_dirs[i]\n",
    "        for f in os.listdir(images_dir):\n",
    "            if re.search('jpg|JPG', f):\n",
    "                list_images.append(images_dir + f)\n",
    "    return list_images"
   ]
  },
  {
   "cell_type": "code",
   "execution_count": 3,
   "metadata": {
    "collapsed": false
   },
   "outputs": [],
   "source": [
    "model_dir = '/Users/jingyany/models/tutorials/image/imagenet/TUTORIAL_DIR/imagenet'\n",
    "dir = '/Users/jingyany/Desktop/17Spring/Data558/data competation/test two classes'\n",
    "folders = list_files(dir)\n",
    "images_dirs = list_directories(folders)\n",
    "list_images = images_lists(images_dirs)"
   ]
  },
  {
   "cell_type": "code",
   "execution_count": null,
   "metadata": {
    "collapsed": false
   },
   "outputs": [],
   "source": [
    "#I pick two classes: Mockingbird and Nighthawk\n",
    "#model_dir = '/Users/jingyany/models/tutorials/image/imagenet/TUTORIAL_DIR/imagenet'\n",
    "#images_dir = '/Users/jingyany/Desktop/17Spring/Data558/data competation/two_classes/'\n",
    "#images_dir = '/Users/jingyany/Desktop/17Spring/Data558/data competation/test two classes/091.Mockingbird/'\n",
    "\n",
    "#list_images = [images_dir + f for f in os.listdir(images_dir) if re.search('jpg|JPG', f)]"
   ]
  },
  {
   "cell_type": "code",
   "execution_count": 4,
   "metadata": {
    "collapsed": false
   },
   "outputs": [],
   "source": [
    "def create_graph():\n",
    "    with gfile.FastGFile(os.path.join(model_dir, 'classify_image_graph_def.pb'), 'rb') as f:\n",
    "        graph_def = tf.GraphDef()\n",
    "        graph_def.ParseFromString(f.read())\n",
    "        _ = tf.import_graph_def(graph_def, name='')\n"
   ]
  },
  {
   "cell_type": "code",
   "execution_count": 13,
   "metadata": {
    "collapsed": true
   },
   "outputs": [],
   "source": [
    "def extract_features(list_images):\n",
    "    nb_features = 2048\n",
    "    features = np.empty((len(list_images),nb_features))\n",
    "    labels = []\n",
    "\n",
    "    create_graph()\n",
    "\n",
    "    with tf.Session() as sess:\n",
    "\n",
    "        next_to_last_tensor = sess.graph.get_tensor_by_name('pool_3:0')\n",
    "\n",
    "    for ind, image in enumerate(list_images):\n",
    "        #if (ind%100 == 0):\n",
    "        print('Processing %s...' % (image))\n",
    "        if not gfile.Exists(image):\n",
    "            tf.logging.fatal('File does not exist %s', image)\n",
    "\n",
    "        image_data = gfile.FastGFile(image, 'rb').read()\n",
    "        predictions = sess.run(next_to_last_tensor,{'DecodeJpeg/contents:0': image_data})\n",
    "        features[ind,:] = np.squeeze(predictions)\n",
    "        labels.append(re.split('_\\d+',image.split('/')[-2].split('.')[0])[0])\n",
    "    labels = list(map(int, labels))\n",
    "\n",
    "    return features, labels\n"
   ]
  },
  {
   "cell_type": "code",
   "execution_count": 14,
   "metadata": {
    "collapsed": false
   },
   "outputs": [
    {
     "name": "stdout",
     "output_type": "stream",
     "text": [
      "Processing /Users/jingyany/Desktop/17Spring/Data558/data competation/test two classes/091.Mockingbird/Mockingbird_0004_81991.jpg...\n",
      "Processing /Users/jingyany/Desktop/17Spring/Data558/data competation/test two classes/091.Mockingbird/Mockingbird_0006_79819.jpg...\n",
      "Processing /Users/jingyany/Desktop/17Spring/Data558/data competation/test two classes/091.Mockingbird/Mockingbird_0009_81130.jpg...\n",
      "Processing /Users/jingyany/Desktop/17Spring/Data558/data competation/test two classes/091.Mockingbird/Mockingbird_0010_79955.jpg...\n",
      "Processing /Users/jingyany/Desktop/17Spring/Data558/data competation/test two classes/091.Mockingbird/Mockingbird_0016_79605.jpg...\n",
      "Processing /Users/jingyany/Desktop/17Spring/Data558/data competation/test two classes/091.Mockingbird/Mockingbird_0018_81183.jpg...\n",
      "Processing /Users/jingyany/Desktop/17Spring/Data558/data competation/test two classes/091.Mockingbird/Mockingbird_0021_80343.jpg...\n",
      "Processing /Users/jingyany/Desktop/17Spring/Data558/data competation/test two classes/091.Mockingbird/Mockingbird_0022_80552.jpg...\n",
      "Processing /Users/jingyany/Desktop/17Spring/Data558/data competation/test two classes/091.Mockingbird/Mockingbird_0023_80121.jpg...\n",
      "Processing /Users/jingyany/Desktop/17Spring/Data558/data competation/test two classes/091.Mockingbird/Mockingbird_0038_81299.jpg...\n",
      "Processing /Users/jingyany/Desktop/17Spring/Data558/data competation/test two classes/091.Mockingbird/Mockingbird_0042_81728.jpg...\n",
      "Processing /Users/jingyany/Desktop/17Spring/Data558/data competation/test two classes/091.Mockingbird/Mockingbird_0046_81086.jpg...\n",
      "Processing /Users/jingyany/Desktop/17Spring/Data558/data competation/test two classes/091.Mockingbird/Mockingbird_0047_80819.jpg...\n",
      "Processing /Users/jingyany/Desktop/17Spring/Data558/data competation/test two classes/091.Mockingbird/Mockingbird_0048_80441.jpg...\n",
      "Processing /Users/jingyany/Desktop/17Spring/Data558/data competation/test two classes/091.Mockingbird/Mockingbird_0049_80336.jpg...\n",
      "Processing /Users/jingyany/Desktop/17Spring/Data558/data competation/test two classes/091.Mockingbird/Mockingbird_0054_81703.jpg...\n",
      "Processing /Users/jingyany/Desktop/17Spring/Data558/data competation/test two classes/091.Mockingbird/Mockingbird_0056_81986.jpg...\n",
      "Processing /Users/jingyany/Desktop/17Spring/Data558/data competation/test two classes/091.Mockingbird/Mockingbird_0059_82126.jpg...\n",
      "Processing /Users/jingyany/Desktop/17Spring/Data558/data competation/test two classes/091.Mockingbird/Mockingbird_0071_80357.jpg...\n",
      "Processing /Users/jingyany/Desktop/17Spring/Data558/data competation/test two classes/091.Mockingbird/Mockingbird_0072_80789.jpg...\n",
      "Processing /Users/jingyany/Desktop/17Spring/Data558/data competation/test two classes/091.Mockingbird/Mockingbird_0077_81470.jpg...\n",
      "Processing /Users/jingyany/Desktop/17Spring/Data558/data competation/test two classes/091.Mockingbird/Mockingbird_0082_80570.jpg...\n",
      "Processing /Users/jingyany/Desktop/17Spring/Data558/data competation/test two classes/091.Mockingbird/Mockingbird_0086_81868.jpg...\n",
      "Processing /Users/jingyany/Desktop/17Spring/Data558/data competation/test two classes/091.Mockingbird/Mockingbird_0094_80232.jpg...\n",
      "Processing /Users/jingyany/Desktop/17Spring/Data558/data competation/test two classes/091.Mockingbird/Mockingbird_0095_81177.jpg...\n",
      "Processing /Users/jingyany/Desktop/17Spring/Data558/data competation/test two classes/091.Mockingbird/Mockingbird_0096_79878.jpg...\n",
      "Processing /Users/jingyany/Desktop/17Spring/Data558/data competation/test two classes/091.Mockingbird/Mockingbird_0098_81117.jpg...\n",
      "Processing /Users/jingyany/Desktop/17Spring/Data558/data competation/test two classes/091.Mockingbird/Mockingbird_0103_79659.jpg...\n",
      "Processing /Users/jingyany/Desktop/17Spring/Data558/data competation/test two classes/091.Mockingbird/Mockingbird_0108_81908.jpg...\n",
      "Processing /Users/jingyany/Desktop/17Spring/Data558/data competation/test two classes/091.Mockingbird/Mockingbird_0109_79682.jpg...\n",
      "Processing /Users/jingyany/Desktop/17Spring/Data558/data competation/test two classes/092.Nighthawk/Nighthawk_0004_84011.jpg...\n",
      "Processing /Users/jingyany/Desktop/17Spring/Data558/data competation/test two classes/092.Nighthawk/Nighthawk_0007_83419.jpg...\n",
      "Processing /Users/jingyany/Desktop/17Spring/Data558/data competation/test two classes/092.Nighthawk/Nighthawk_0012_84333.jpg...\n",
      "Processing /Users/jingyany/Desktop/17Spring/Data558/data competation/test two classes/092.Nighthawk/Nighthawk_0014_82624.jpg...\n",
      "Processing /Users/jingyany/Desktop/17Spring/Data558/data competation/test two classes/092.Nighthawk/Nighthawk_0020_83869.jpg...\n",
      "Processing /Users/jingyany/Desktop/17Spring/Data558/data competation/test two classes/092.Nighthawk/Nighthawk_0024_83519.jpg...\n",
      "Processing /Users/jingyany/Desktop/17Spring/Data558/data competation/test two classes/092.Nighthawk/Nighthawk_0026_83911.jpg...\n",
      "Processing /Users/jingyany/Desktop/17Spring/Data558/data competation/test two classes/092.Nighthawk/Nighthawk_0027_84697.jpg...\n",
      "Processing /Users/jingyany/Desktop/17Spring/Data558/data competation/test two classes/092.Nighthawk/Nighthawk_0031_83636.jpg...\n",
      "Processing /Users/jingyany/Desktop/17Spring/Data558/data competation/test two classes/092.Nighthawk/Nighthawk_0035_84077.jpg...\n",
      "Processing /Users/jingyany/Desktop/17Spring/Data558/data competation/test two classes/092.Nighthawk/Nighthawk_0041_82183.jpg...\n",
      "Processing /Users/jingyany/Desktop/17Spring/Data558/data competation/test two classes/092.Nighthawk/Nighthawk_0042_83603.jpg...\n",
      "Processing /Users/jingyany/Desktop/17Spring/Data558/data competation/test two classes/092.Nighthawk/Nighthawk_0043_84039.jpg...\n",
      "Processing /Users/jingyany/Desktop/17Spring/Data558/data competation/test two classes/092.Nighthawk/Nighthawk_0046_82246.jpg...\n",
      "Processing /Users/jingyany/Desktop/17Spring/Data558/data competation/test two classes/092.Nighthawk/Nighthawk_0047_82820.jpg...\n",
      "Processing /Users/jingyany/Desktop/17Spring/Data558/data competation/test two classes/092.Nighthawk/Nighthawk_0050_84094.jpg...\n",
      "Processing /Users/jingyany/Desktop/17Spring/Data558/data competation/test two classes/092.Nighthawk/Nighthawk_0051_82619.jpg...\n",
      "Processing /Users/jingyany/Desktop/17Spring/Data558/data competation/test two classes/092.Nighthawk/Nighthawk_0053_84436.jpg...\n",
      "Processing /Users/jingyany/Desktop/17Spring/Data558/data competation/test two classes/092.Nighthawk/Nighthawk_0054_795337.jpg...\n",
      "Processing /Users/jingyany/Desktop/17Spring/Data558/data competation/test two classes/092.Nighthawk/Nighthawk_0055_83352.jpg...\n",
      "Processing /Users/jingyany/Desktop/17Spring/Data558/data competation/test two classes/092.Nighthawk/Nighthawk_0059_82741.jpg...\n",
      "Processing /Users/jingyany/Desktop/17Spring/Data558/data competation/test two classes/092.Nighthawk/Nighthawk_0061_82509.jpg...\n",
      "Processing /Users/jingyany/Desktop/17Spring/Data558/data competation/test two classes/092.Nighthawk/Nighthawk_0062_84573.jpg...\n",
      "Processing /Users/jingyany/Desktop/17Spring/Data558/data competation/test two classes/092.Nighthawk/Nighthawk_0069_82613.jpg...\n",
      "Processing /Users/jingyany/Desktop/17Spring/Data558/data competation/test two classes/092.Nighthawk/Nighthawk_0072_795336.jpg...\n",
      "Processing /Users/jingyany/Desktop/17Spring/Data558/data competation/test two classes/092.Nighthawk/Nighthawk_0073_83540.jpg...\n",
      "Processing /Users/jingyany/Desktop/17Spring/Data558/data competation/test two classes/092.Nighthawk/Nighthawk_0076_82686.jpg...\n",
      "Processing /Users/jingyany/Desktop/17Spring/Data558/data competation/test two classes/092.Nighthawk/Nighthawk_0083_83647.jpg...\n",
      "Processing /Users/jingyany/Desktop/17Spring/Data558/data competation/test two classes/092.Nighthawk/Nighthawk_0084_84510.jpg...\n",
      "Processing /Users/jingyany/Desktop/17Spring/Data558/data competation/test two classes/092.Nighthawk/Nighthawk_0088_82225.jpg...\n"
     ]
    }
   ],
   "source": [
    "features,labels = extract_features(list_images)"
   ]
  },
  {
   "cell_type": "code",
   "execution_count": 16,
   "metadata": {
    "collapsed": false
   },
   "outputs": [],
   "source": [
    "pickle.dump(features, open('features', 'wb'))\n",
    "pickle.dump(labels, open('labels', 'wb'))"
   ]
  },
  {
   "cell_type": "code",
   "execution_count": 17,
   "metadata": {
    "collapsed": false
   },
   "outputs": [],
   "source": [
    "features = pickle.load(open('features','rb'))\n",
    "labels = pickle.load(open('labels','rb'))"
   ]
  },
  {
   "cell_type": "code",
   "execution_count": 67,
   "metadata": {
    "collapsed": false
   },
   "outputs": [
    {
     "data": {
      "text/plain": [
       "array([91, 91, 91, 91, 91, 91, 91, 91, 91, 91, 91, 91, 91, 91, 91, 91, 91,\n",
       "       91, 91, 91, 91, 91, 91, 91, 91, 91, 91, 91, 91, 91, 92, 92, 92, 92,\n",
       "       92, 92, 92, 92, 92, 92, 92, 92, 92, 92, 92, 92, 92, 92, 92, 92, 92,\n",
       "       92, 92, 92, 92, 92, 92, 92, 92, 92])"
      ]
     },
     "execution_count": 67,
     "metadata": {},
     "output_type": "execute_result"
    }
   ],
   "source": [
    "labels = np.asarray(labels)\n",
    "labels"
   ]
  },
  {
   "cell_type": "code",
   "execution_count": 69,
   "metadata": {
    "collapsed": false
   },
   "outputs": [],
   "source": [
    "for i in range(labels.shape[0]):\n",
    "    if labels[i] == 91:\n",
    "        labels[i] = 1\n",
    "    else:\n",
    "        labels[i] = -1"
   ]
  },
  {
   "cell_type": "code",
   "execution_count": 70,
   "metadata": {
    "collapsed": false
   },
   "outputs": [
    {
     "data": {
      "text/plain": [
       "array([ 1,  1,  1,  1,  1,  1,  1,  1,  1,  1,  1,  1,  1,  1,  1,  1,  1,\n",
       "        1,  1,  1,  1,  1,  1,  1,  1,  1,  1,  1,  1,  1, -1, -1, -1, -1,\n",
       "       -1, -1, -1, -1, -1, -1, -1, -1, -1, -1, -1, -1, -1, -1, -1, -1, -1,\n",
       "       -1, -1, -1, -1, -1, -1, -1, -1, -1])"
      ]
     },
     "execution_count": 70,
     "metadata": {},
     "output_type": "execute_result"
    }
   ],
   "source": [
    "labels"
   ]
  },
  {
   "cell_type": "code",
   "execution_count": 71,
   "metadata": {
    "collapsed": false
   },
   "outputs": [],
   "source": [
    "X_train, X_test, y_train, y_test = train_test_split(features, labels, test_size=0.2, random_state=42)"
   ]
  },
  {
   "cell_type": "code",
   "execution_count": 72,
   "metadata": {
    "collapsed": false
   },
   "outputs": [],
   "source": [
    "def computegrad(beta, lamda, x, y):\n",
    "    n = len(y)\n",
    "    yx = y[:, None]*x\n",
    "    upper = yx*np.exp(-yx.dot(beta[:, None]))\n",
    "    bottom = np.exp(-yx.dot(beta))+1\n",
    "    gradient = -1/n *np.sum(upper/bottom[:, None], axis=0) + 2*lamda*beta\n",
    "                            \n",
    "    return gradient"
   ]
  },
  {
   "cell_type": "code",
   "execution_count": 73,
   "metadata": {
    "collapsed": true
   },
   "outputs": [],
   "source": [
    "def function(beta, lamda, x, y):\n",
    "    n = len(y)\n",
    "    yx = y[:, None]*x\n",
    "    f = 1/n*(np.sum(np.log(np.exp(-yx.dot(beta))+1))) + lamda*np.linalg.norm(beta)**2\n",
    "    return f"
   ]
  },
  {
   "cell_type": "code",
   "execution_count": 74,
   "metadata": {
    "collapsed": true
   },
   "outputs": [],
   "source": [
    "def backtracking(beta, lamda, t=1, alpha=0.5, beta_s=0.8, max_iter=100):\n",
    "    grad_beta = computegrad(beta, lamda, x=X_train, y=y_train)\n",
    "    norm_grad_beta = np.linalg.norm(grad_beta)\n",
    "    found_t = 0 \n",
    "    iter = 0 \n",
    "    while (found_t == 0 and iter < max_iter):       \n",
    "        if (function(beta - t*grad_beta, lamda, x=X_train, y=y_train)) < (function(beta, lamda, x=X_train, y=y_train)-alpha*t*(norm_grad_beta)**2):\n",
    "            found_t = 1        \n",
    "        elif(iter == max_iter):\n",
    "            stop(\"Maximum number of iterations reached\")         \n",
    "        else:\n",
    "            t = t*beta_s\n",
    "            iter = iter + 1   \n",
    "    return t "
   ]
  },
  {
   "cell_type": "code",
   "execution_count": 84,
   "metadata": {
    "collapsed": true
   },
   "outputs": [],
   "source": [
    "def fastgradalgo(beta_init,theta,lamda,t_init, max_iter=500):\n",
    "    beta = beta_init\n",
    "    grad_theta = computegrad(beta, lamda, x=X_train, y=y_train)\n",
    "    beta_vals = theta\n",
    "    \n",
    "    iter = 0\n",
    "    while(iter < max_iter):         \n",
    "        t = backtracking(beta, lamda)\n",
    "        beta1 = theta - t*grad_theta\n",
    "        theta = beta1 + t/(t+3)*(beta1 - beta)\n",
    "        beta_vals = np.vstack((beta_vals, theta))\n",
    "        grad_theta = computegrad(theta, lamda, x=X_train, y=y_train)\n",
    "        beta = beta1\n",
    "        iter = iter + 1\n",
    "        \n",
    "    return beta_vals"
   ]
  },
  {
   "cell_type": "code",
   "execution_count": 85,
   "metadata": {
    "collapsed": false
   },
   "outputs": [],
   "source": [
    "d = np.size(X_train, 1)\n",
    "beta = np.zeros(d)\n",
    "theta = np.zeros(d)\n",
    "lambduh = 1\n",
    "eta_init = 1/(scipy.linalg.eigh(1/len(y_train)*X_train.T.dot(X_train), eigvals=(d-1, d-1), eigvals_only=True)[0]+lambduh)\n",
    "fgd_betas = fastgradalgo(beta_init=beta,theta=theta,lamda=1,t_init=eta_init)"
   ]
  },
  {
   "cell_type": "code",
   "execution_count": 86,
   "metadata": {
    "collapsed": false
   },
   "outputs": [],
   "source": [
    "def compute_misclassification_error(beta_opt, x, y):\n",
    "    y_pred = 1/(1+np.exp(-x.dot(beta_opt))) > 0.5\n",
    "    y_pred = y_pred*2 - 1  # Convert to +/- 1\n",
    "    return np.mean(y_pred != y)"
   ]
  },
  {
   "cell_type": "code",
   "execution_count": 91,
   "metadata": {
    "collapsed": true
   },
   "outputs": [],
   "source": [
    "def plot_misclassification_error(betas_fastgrad, x_train, y_train, x_test, y_test, title=''):\n",
    "    niter = np.size(betas_fastgrad, 0)\n",
    "    error_train_fastgrad = np.zeros(niter)\n",
    "    error_test_fastgrad = np.zeros(niter)\n",
    "    for i in range(niter):\n",
    "        error_train_fastgrad[i] = compute_misclassification_error(betas_fastgrad[i, :], x_train, y_train)\n",
    "        error_test_fastgrad[i] = compute_misclassification_error(betas_fastgrad[i, :], x_test, y_test)\n",
    "    plt.plot(range(1, niter + 1), error_train_fastgrad, c='red', label='Training set')\n",
    "    plt.plot(range(1, niter + 1), error_test_fastgrad, c='blue', label='Test set')\n",
    "    plt.xlabel('Iteration')\n",
    "    plt.ylabel('Misclassification error')\n",
    "    if title:\n",
    "        plt.title(title)\n",
    "    plt.legend(loc='upper right')\n",
    "    plt.show()"
   ]
  },
  {
   "cell_type": "code",
   "execution_count": 92,
   "metadata": {
    "collapsed": false
   },
   "outputs": [
    {
     "data": {
      "image/png": "[encoded data removed]",
      "text/plain": [
       "<matplotlib.figure.Figure at 0x128e47c50>"
      ]
     },
     "metadata": {},
     "output_type": "display_data"
    }
   ],
   "source": [
    "plot_misclassification_error(fgd_betas, X_train, y_train,X_test, y_test, title='Misclassification error')"
   ]
  },
  {
   "cell_type": "markdown",
   "metadata": {},
   "source": [
    "Find the value of the regularization parameter $\\lambda$ using cross-validation; you may use scikit-learn's built-in functions for this purpose. Train an $l_2^2$-regularized logistic regression classi\f",
    "er on the training set using your own fast gradient algorithm with that value of $\\lambda$ found by cross-validation. Plot, with different colors, the misclassification error on the training set and on the validation set vs iterations."
   ]
  },
  {
   "cell_type": "code",
   "execution_count": 94,
   "metadata": {
    "collapsed": false
   },
   "outputs": [
    {
     "name": "stdout",
     "output_type": "stream",
     "text": [
      "Optimal lambda= 0.00599484250319\n"
     ]
    }
   ],
   "source": [
    "lr_cv = sklearn.linear_model.LogisticRegressionCV(penalty='l2', fit_intercept=False, tol=10e-8, max_iter=1000)\n",
    "lr_cv.fit(X_train, y_train)\n",
    "optimal_lambda = lr_cv.C_[0]\n",
    "print('Optimal lambda=', optimal_lambda)"
   ]
  },
  {
   "cell_type": "code",
   "execution_count": 95,
   "metadata": {
    "collapsed": true
   },
   "outputs": [],
   "source": [
    "d = np.size(X_train, 1)\n",
    "beta = np.zeros(d)\n",
    "theta = np.zeros(d)\n",
    "lambduh = optimal_lambda\n",
    "eta_init = 1/(scipy.linalg.eigh(1/len(y_train)*X_train.T.dot(X_train), eigvals=(d-1, d-1), eigvals_only=True)[0]+lambduh)\n",
    "fgd_betas_cv = fastgradalgo(beta_init=beta,theta=theta,lamda=optimal_lambda,t_init=eta_init)"
   ]
  },
  {
   "cell_type": "code",
   "execution_count": null,
   "metadata": {
    "collapsed": true
   },
   "outputs": [],
   "source": [
    "plot_misclassification_error(fgd_betas, X_train, y_train,X_test, y_test, title='Misclassification error')"
   ]
  }
 ],
 "metadata": {
  "kernelspec": {
   "display_name": "Python 3",
   "language": "python",
   "name": "python3"
  },
  "language_info": {
   "codemirror_mode": {
    "name": "ipython",
    "version": 3
   },
   "file_extension": ".py",
   "mimetype": "text/x-python",
   "name": "python",
   "nbconvert_exporter": "python",
   "pygments_lexer": "ipython3",
   "version": "3.6.0"
  }
 },
 "nbformat": 4,
 "nbformat_minor": 2
}
